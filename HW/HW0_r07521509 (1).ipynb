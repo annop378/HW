{
 "cells": [
  {
   "cell_type": "markdown",
   "metadata": {},
   "source": [
    "# HW0_2011年世界人口數比較圖"
   ]
  },
  {
   "cell_type": "markdown",
   "metadata": {},
   "source": [
    "## Level2: 註解與應用"
   ]
  },
  {
   "cell_type": "code",
   "execution_count": 1,
   "metadata": {},
   "outputs": [],
   "source": [
    "#import needed module\n",
    "import plotly #signup in the plotly internet and get the api and username\n",
    "plotly.tools.set_credentials_file(username='annop378', api_key='f2CKCdDmLHgUHSNurAUG' )\n",
    "import math\n",
    "import plotly.graph_objs as go"
   ]
  },
  {
   "cell_type": "markdown",
   "metadata": {},
   "source": [
    "應用 get_scatter_trace 以利後續與sectionI_plot 搭配"
   ]
  },
  {
   "cell_type": "code",
   "execution_count": 10,
   "metadata": {},
   "outputs": [],
   "source": [
    "#return the data of point including the location of x,y also the size of the point!\n",
    "def get_scatter_trace(points_x, points_y, points_size=10, trace_name='', line=False):\n",
    "    if line:\n",
    "        return go.Scatter(\n",
    "            x = points_x, #the site of x\n",
    "            y = points_y, #the site of y\n",
    "            mode = 'lines', \n",
    "            hoverinfo = 'x+y',\n",
    "            name\n",
    "            = trace_name,\n",
    "            text = points_x, #if we touch the point then show the point_size\n",
    "            yaxis = 'y2',\n",
    "            line = {\n",
    "                \"color\": 'rgba(255, 166, 87, 0.4)'\n",
    "            }\n",
    "        )\n",
    "    else:\n",
    "        return go.Scatter(\n",
    "            x = points_x,\n",
    "            y = points_y,\n",
    "            mode = 'markers' if not line else 'lines',\n",
    "            marker = {\n",
    "                'size':  points_x\n",
    "            },\n",
    "            hoverinfo = 'text+name',\n",
    "            name = trace_name,\n",
    "            text = points_size\n",
    "        )"
   ]
  },
  {
   "cell_type": "code",
   "execution_count": 11,
   "metadata": {},
   "outputs": [],
   "source": [
    "def sectionI_plot(ori_data, title=''):\n",
    "    import plotly.plotly as py\n",
    "    # data\n",
    "    fig_data = []\n",
    "    for index, name in enumerate(ori_data):\n",
    "        x, size = [], []\n",
    "        for a in ori_data[name]:\n",
    "            x.append(a) #to let the x=[] have new data a\n",
    "            size.append(min(int(a)/10000000.0,100)) #to control the size of point and the max is 100\n",
    "        fig_data.append(get_scatter_trace(x,x ,points_size=size, trace_name=name))\n",
    "        \n",
    "    # layout\n",
    "    fig_layout = go.Layout(\n",
    "        title=title,\n",
    "        xaxis=dict(\n",
    "            title='Name'\n",
    "        ),\n",
    "        yaxis=dict(\n",
    "            title='name'\n",
    "        )\n",
    "    )\n",
    "\n",
    "    fig = go.Figure(data=fig_data, layout=fig_layout)\n",
    "    display(py.iplot(fig, filename='bubble-event'))"
   ]
  },
  {
   "cell_type": "markdown",
   "metadata": {},
   "source": [
    "簡易呈現圖"
   ]
  },
  {
   "cell_type": "code",
   "execution_count": 5,
   "metadata": {},
   "outputs": [
    {
     "name": "stdout",
     "output_type": "stream",
     "text": [
      "High five! You successfully sent some data to your account on plotly. View your plot in your browser at https://plot.ly/~annop378/0 or inside your plot.ly account where it is named 'bubble-event'\n"
     ]
    },
    {
     "data": {
      "text/html": [
       "<iframe id=\"igraph\" scrolling=\"no\" style=\"border:none;\" seamless=\"seamless\" src=\"https://plot.ly/~annop378/0.embed\" height=\"525px\" width=\"100%\"></iframe>"
      ],
      "text/plain": [
       "<plotly.tools.PlotlyDisplay object>"
      ]
     },
     "metadata": {},
     "output_type": "display_data"
    }
   ],
   "source": [
    "HH ={\n",
    "     \"亞洲\": {'4140336501'},\n",
    "     \"非洲\": {'994527534'},\n",
    "     \"歐洲\":  {'738523843'},\n",
    "     \"南美洲\":  {'528720588'}}\n",
    "sectionI_plot( HH,'2011年各洲人口數比較圖')"
   ]
  },
  {
   "cell_type": "code",
   "execution_count": null,
   "metadata": {},
   "outputs": [],
   "source": []
  }
 ],
 "metadata": {
  "kernelspec": {
   "display_name": "Python 3",
   "language": "python",
   "name": "python3"
  },
  "language_info": {
   "codemirror_mode": {
    "name": "ipython",
    "version": 3
   },
   "file_extension": ".py",
   "mimetype": "text/x-python",
   "name": "python",
   "nbconvert_exporter": "python",
   "pygments_lexer": "ipython3",
   "version": "3.7.2"
  }
 },
 "nbformat": 4,
 "nbformat_minor": 2
}
