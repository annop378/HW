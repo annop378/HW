{
 "cells": [
  {
   "cell_type": "markdown",
   "metadata": {},
   "source": [
    "# 利用台大安寧病房124位病人的資料，探勘早照會與晚照會病人分別較常用的藥品有哪些?"
   ]
  },
  {
   "cell_type": "markdown",
   "metadata": {},
   "source": [
    "### 第一步:載入需要的軟件(畫圖:matplotlib.pyplot、標準化資料:pandas、處理資料:numpy)，並概看days.csv的資料)"
   ]
  },
  {
   "cell_type": "code",
   "execution_count": 1,
   "metadata": {},
   "outputs": [
    {
     "data": {
      "text/html": [
       "<div>\n",
       "<style scoped>\n",
       "    .dataframe tbody tr th:only-of-type {\n",
       "        vertical-align: middle;\n",
       "    }\n",
       "\n",
       "    .dataframe tbody tr th {\n",
       "        vertical-align: top;\n",
       "    }\n",
       "\n",
       "    .dataframe thead th {\n",
       "        text-align: right;\n",
       "    }\n",
       "</style>\n",
       "<table border=\"1\" class=\"dataframe\">\n",
       "  <thead>\n",
       "    <tr style=\"text-align: right;\">\n",
       "      <th></th>\n",
       "      <th>Unnamed: 0</th>\n",
       "      <th>x</th>\n",
       "    </tr>\n",
       "  </thead>\n",
       "  <tbody>\n",
       "    <tr>\n",
       "      <th>0</th>\n",
       "      <td>1</td>\n",
       "      <td>46.0</td>\n",
       "    </tr>\n",
       "    <tr>\n",
       "      <th>1</th>\n",
       "      <td>2</td>\n",
       "      <td>34.0</td>\n",
       "    </tr>\n",
       "    <tr>\n",
       "      <th>2</th>\n",
       "      <td>3</td>\n",
       "      <td>12.0</td>\n",
       "    </tr>\n",
       "    <tr>\n",
       "      <th>3</th>\n",
       "      <td>4</td>\n",
       "      <td>60.0</td>\n",
       "    </tr>\n",
       "    <tr>\n",
       "      <th>4</th>\n",
       "      <td>5</td>\n",
       "      <td>14.0</td>\n",
       "    </tr>\n",
       "  </tbody>\n",
       "</table>\n",
       "</div>"
      ],
      "text/plain": [
       "   Unnamed: 0     x\n",
       "0           1  46.0\n",
       "1           2  34.0\n",
       "2           3  12.0\n",
       "3           4  60.0\n",
       "4           5  14.0"
      ]
     },
     "execution_count": 1,
     "metadata": {},
     "output_type": "execute_result"
    }
   ],
   "source": [
    "import matplotlib.pyplot as plt\n",
    "import pandas as pd\n",
    "import numpy as np\n",
    "\n",
    "day = pd.read_csv('days.csv')\n",
    "day.head()"
   ]
  },
  {
   "cell_type": "markdown",
   "metadata": {},
   "source": [
    "### 第二步:計算照會病人的平均時長，以利後續區分早照會與晚照會病人"
   ]
  },
  {
   "cell_type": "code",
   "execution_count": 2,
   "metadata": {},
   "outputs": [
    {
     "name": "stdout",
     "output_type": "stream",
     "text": [
      "30.243697478991596 [46, 34, 12, 60, 14, 31, 8, 'None', 34, 34, 20, 8, 10, 66, 4, 24, 21, 62, 38, 10, 19, 27, 14, 32, 16, 107, 27, 41, 49, 27, 12, 13, 15, 35, 37, 30, 14, 26, 82, 20, 0, 17, 16, 31, 1, 17, 14, 87, 53, 14, 25, 79, 25, 22, 14, 12, 19, 40, 2, 49, 44, 43, 43, 48, 35, 28, 60, 54, 24, 26, 6, 31, 18, 105, 36, 16, 21, 17, 22, 19, 3, 45, 14, 43, 16, 18, 61, 9, 17, 27, 12, 13, 128, 7, 19, 16, 10, 29, 38, 16, 14, 27, 19, 1, 8, 127, 15, 35, 10, 10, 'None', 'None', 'None', 'None', 16, 4, 22, 22, 210, 27, 25, 6, 17, 31]\n"
     ]
    }
   ],
   "source": [
    "sumday=0\n",
    "test=0\n",
    "patient_day=[]\n",
    "for i,row in enumerate(open('days.csv')):\n",
    "    if i != 0:\n",
    "        try:\n",
    "            sumday += int(row.split(',')[1])\n",
    "            test+=1\n",
    "            patient_day.append(int(row.split(',')[1]))\n",
    "        except:\n",
    "            sumday+=0\n",
    "            test+=0\n",
    "            patient_day.append('None')\n",
    "average=sumday/test\n",
    "print (average,patient_day)"
   ]
  },
  {
   "cell_type": "markdown",
   "metadata": {},
   "source": [
    "### 第三步:概看dfall(1).csv檔"
   ]
  },
  {
   "cell_type": "code",
   "execution_count": 3,
   "metadata": {},
   "outputs": [
    {
     "data": {
      "text/html": [
       "<div>\n",
       "<style scoped>\n",
       "    .dataframe tbody tr th:only-of-type {\n",
       "        vertical-align: middle;\n",
       "    }\n",
       "\n",
       "    .dataframe tbody tr th {\n",
       "        vertical-align: top;\n",
       "    }\n",
       "\n",
       "    .dataframe thead th {\n",
       "        text-align: right;\n",
       "    }\n",
       "</style>\n",
       "<table border=\"1\" class=\"dataframe\">\n",
       "  <thead>\n",
       "    <tr style=\"text-align: right;\">\n",
       "      <th></th>\n",
       "      <th>Unnamed: 0</th>\n",
       "      <th>.rownames</th>\n",
       "      <th>X1</th>\n",
       "      <th>X2</th>\n",
       "      <th>X3</th>\n",
       "      <th>X4</th>\n",
       "      <th>X5</th>\n",
       "      <th>X6</th>\n",
       "      <th>X7</th>\n",
       "      <th>X8</th>\n",
       "      <th>...</th>\n",
       "      <th>X115</th>\n",
       "      <th>X116</th>\n",
       "      <th>X117</th>\n",
       "      <th>X118</th>\n",
       "      <th>X119</th>\n",
       "      <th>X120</th>\n",
       "      <th>X121</th>\n",
       "      <th>X122</th>\n",
       "      <th>X123</th>\n",
       "      <th>X124</th>\n",
       "    </tr>\n",
       "  </thead>\n",
       "  <tbody>\n",
       "    <tr>\n",
       "      <th>0</th>\n",
       "      <td>1</td>\n",
       "      <td>MICU</td>\n",
       "      <td>1</td>\n",
       "      <td>0</td>\n",
       "      <td>0</td>\n",
       "      <td>0</td>\n",
       "      <td>0</td>\n",
       "      <td>0</td>\n",
       "      <td>0</td>\n",
       "      <td>0</td>\n",
       "      <td>...</td>\n",
       "      <td>1</td>\n",
       "      <td>0</td>\n",
       "      <td>0</td>\n",
       "      <td>0</td>\n",
       "      <td>0</td>\n",
       "      <td>1</td>\n",
       "      <td>0</td>\n",
       "      <td>0</td>\n",
       "      <td>0</td>\n",
       "      <td>0</td>\n",
       "    </tr>\n",
       "    <tr>\n",
       "      <th>1</th>\n",
       "      <td>2</td>\n",
       "      <td>ER</td>\n",
       "      <td>1</td>\n",
       "      <td>1</td>\n",
       "      <td>1</td>\n",
       "      <td>0</td>\n",
       "      <td>1</td>\n",
       "      <td>1</td>\n",
       "      <td>0</td>\n",
       "      <td>0</td>\n",
       "      <td>...</td>\n",
       "      <td>1</td>\n",
       "      <td>1</td>\n",
       "      <td>1</td>\n",
       "      <td>1</td>\n",
       "      <td>1</td>\n",
       "      <td>0</td>\n",
       "      <td>1</td>\n",
       "      <td>1</td>\n",
       "      <td>1</td>\n",
       "      <td>0</td>\n",
       "    </tr>\n",
       "    <tr>\n",
       "      <th>2</th>\n",
       "      <td>3</td>\n",
       "      <td>IAI</td>\n",
       "      <td>1</td>\n",
       "      <td>0</td>\n",
       "      <td>0</td>\n",
       "      <td>0</td>\n",
       "      <td>0</td>\n",
       "      <td>0</td>\n",
       "      <td>0</td>\n",
       "      <td>0</td>\n",
       "      <td>...</td>\n",
       "      <td>0</td>\n",
       "      <td>0</td>\n",
       "      <td>0</td>\n",
       "      <td>0</td>\n",
       "      <td>0</td>\n",
       "      <td>0</td>\n",
       "      <td>0</td>\n",
       "      <td>1</td>\n",
       "      <td>0</td>\n",
       "      <td>0</td>\n",
       "    </tr>\n",
       "    <tr>\n",
       "      <th>3</th>\n",
       "      <td>4</td>\n",
       "      <td>CRRT</td>\n",
       "      <td>1</td>\n",
       "      <td>0</td>\n",
       "      <td>0</td>\n",
       "      <td>0</td>\n",
       "      <td>0</td>\n",
       "      <td>0</td>\n",
       "      <td>0</td>\n",
       "      <td>0</td>\n",
       "      <td>...</td>\n",
       "      <td>0</td>\n",
       "      <td>0</td>\n",
       "      <td>0</td>\n",
       "      <td>0</td>\n",
       "      <td>0</td>\n",
       "      <td>0</td>\n",
       "      <td>0</td>\n",
       "      <td>1</td>\n",
       "      <td>0</td>\n",
       "      <td>0</td>\n",
       "    </tr>\n",
       "    <tr>\n",
       "      <th>4</th>\n",
       "      <td>5</td>\n",
       "      <td>PSA</td>\n",
       "      <td>1</td>\n",
       "      <td>0</td>\n",
       "      <td>0</td>\n",
       "      <td>0</td>\n",
       "      <td>0</td>\n",
       "      <td>0</td>\n",
       "      <td>0</td>\n",
       "      <td>0</td>\n",
       "      <td>...</td>\n",
       "      <td>0</td>\n",
       "      <td>0</td>\n",
       "      <td>0</td>\n",
       "      <td>0</td>\n",
       "      <td>0</td>\n",
       "      <td>0</td>\n",
       "      <td>0</td>\n",
       "      <td>0</td>\n",
       "      <td>0</td>\n",
       "      <td>0</td>\n",
       "    </tr>\n",
       "  </tbody>\n",
       "</table>\n",
       "<p>5 rows × 126 columns</p>\n",
       "</div>"
      ],
      "text/plain": [
       "   Unnamed: 0 .rownames  X1  X2  X3  X4  X5  X6  X7  X8  ...  X115  X116  \\\n",
       "0           1      MICU   1   0   0   0   0   0   0   0  ...     1     0   \n",
       "1           2        ER   1   1   1   0   1   1   0   0  ...     1     1   \n",
       "2           3       IAI   1   0   0   0   0   0   0   0  ...     0     0   \n",
       "3           4      CRRT   1   0   0   0   0   0   0   0  ...     0     0   \n",
       "4           5       PSA   1   0   0   0   0   0   0   0  ...     0     0   \n",
       "\n",
       "   X117  X118  X119  X120  X121  X122  X123  X124  \n",
       "0     0     0     0     1     0     0     0     0  \n",
       "1     1     1     1     0     1     1     1     0  \n",
       "2     0     0     0     0     0     1     0     0  \n",
       "3     0     0     0     0     0     1     0     0  \n",
       "4     0     0     0     0     0     0     0     0  \n",
       "\n",
       "[5 rows x 126 columns]"
      ]
     },
     "execution_count": 3,
     "metadata": {},
     "output_type": "execute_result"
    }
   ],
   "source": [
    "dfall = pd.read_csv('dfall (1).csv')\n",
    "dfall.head()"
   ]
  },
  {
   "cell_type": "markdown",
   "metadata": {},
   "source": [
    "### 第四步:整理dfall(1).csv檔案，以利後續統計藥品名，以及根據早照會、晚照會的病人，區別藥物!"
   ]
  },
  {
   "cell_type": "code",
   "execution_count": 4,
   "metadata": {},
   "outputs": [],
   "source": [
    "dfalllist=[]\n",
    "for i,row in enumerate(open('dfall (1).csv')):\n",
    "    dfalllist.append(row.split(','))\n",
    "for i in dfalllist:\n",
    "    del i[0]"
   ]
  },
  {
   "cell_type": "markdown",
   "metadata": {},
   "source": [
    "#### 將藥物名稱紀錄在drug list中"
   ]
  },
  {
   "cell_type": "code",
   "execution_count": 5,
   "metadata": {},
   "outputs": [],
   "source": [
    "drug=[]\n",
    "for i,j in enumerate(dfalllist):\n",
    "    if i != 0:\n",
    "        drug.append(j[0])"
   ]
  },
  {
   "cell_type": "markdown",
   "metadata": {},
   "source": [
    "#### 將病人id紀錄在patient_index list中"
   ]
  },
  {
   "cell_type": "code",
   "execution_count": 6,
   "metadata": {},
   "outputs": [],
   "source": [
    "import copy\n",
    "patient_index=copy.copy(dfalllist[0])"
   ]
  },
  {
   "cell_type": "markdown",
   "metadata": {},
   "source": [
    "#### 建立patient dictionary 以病人 id為key，病人天數為value。"
   ]
  },
  {
   "cell_type": "code",
   "execution_count": 7,
   "metadata": {},
   "outputs": [],
   "source": [
    "patient=dict()\n",
    "for i in range(len(patient_index)):\n",
    "    if i != 0:\n",
    "        patient[patient_index[i]]=[patient_day[i-1]]"
   ]
  },
  {
   "cell_type": "markdown",
   "metadata": {},
   "source": [
    "#### 根據病人的id，在patient dictionary中，新增病人是否有使用該藥物的資料，若有使用該藥物，則在value中新增該藥物的名稱，以利後續根據早照會、晚照會，區分藥品。"
   ]
  },
  {
   "cell_type": "code",
   "execution_count": 8,
   "metadata": {},
   "outputs": [],
   "source": [
    "for drugid,row in enumerate(open('dfall (1).csv')):\n",
    "    if drugid != 0:\n",
    "        for patientid,k in enumerate(row):\n",
    "            try:\n",
    "                if int(k) == 1:\n",
    "                    patient[patient_index[patientid]].append(row.split(',')[1])\n",
    "            except:\n",
    "                pass"
   ]
  },
  {
   "cell_type": "markdown",
   "metadata": {},
   "source": [
    "### 第五步:區分早照會與晚照會的病人"
   ]
  },
  {
   "cell_type": "code",
   "execution_count": 9,
   "metadata": {},
   "outputs": [
    {
     "name": "stdout",
     "output_type": "stream",
     "text": [
      "early:['\"X3\"', '\"X5\"', '\"X7\"', '\"X11\"', '\"X12\"', '\"X13\"', '\"X15\"', '\"X16\"', '\"X17\"', '\"X20\"', '\"X21\"', '\"X22\"', '\"X23\"', '\"X25\"', '\"X27\"', '\"X30\"', '\"X31\"', '\"X32\"', '\"X33\"', '\"X36\"', '\"X37\"', '\"X38\"', '\"X40\"', '\"X41\"', '\"X42\"', '\"X43\"', '\"X45\"', '\"X46\"', '\"X47\"', '\"X50\"', '\"X51\"', '\"X53\"', '\"X54\"', '\"X55\"', '\"X56\"', '\"X57\"', '\"X59\"', '\"X66\"', '\"X69\"', '\"X70\"', '\"X71\"', '\"X73\"', '\"X76\"', '\"X77\"', '\"X78\"', '\"X79\"', '\"X80\"', '\"X81\"', '\"X83\"', '\"X85\"', '\"X86\"', '\"X88\"', '\"X89\"', '\"X90\"', '\"X91\"', '\"X92\"', '\"X94\"', '\"X95\"', '\"X96\"', '\"X97\"', '\"X98\"', '\"X100\"', '\"X101\"', '\"X102\"', '\"X103\"', '\"X104\"', '\"X105\"', '\"X107\"', '\"X109\"', '\"X110\"', '\"X115\"', '\"X116\"', '\"X117\"', '\"X118\"', '\"X120\"', '\"X121\"', '\"X122\"', '\"X123\"'],late:['\"X1\"', '\"X2\"', '\"X4\"', '\"X6\"', '\"X9\"', '\"X10\"', '\"X14\"', '\"X18\"', '\"X19\"', '\"X24\"', '\"X26\"', '\"X28\"', '\"X29\"', '\"X34\"', '\"X35\"', '\"X39\"', '\"X44\"', '\"X48\"', '\"X49\"', '\"X52\"', '\"X58\"', '\"X60\"', '\"X61\"', '\"X62\"', '\"X63\"', '\"X64\"', '\"X65\"', '\"X67\"', '\"X68\"', '\"X72\"', '\"X74\"', '\"X75\"', '\"X82\"', '\"X84\"', '\"X87\"', '\"X93\"', '\"X99\"', '\"X106\"', '\"X108\"', '\"X119\"', '\"X124\"\\n']\n"
     ]
    }
   ],
   "source": [
    "#區分早照會與晚照會\n",
    "early_patient=[]\n",
    "late_patient=[]\n",
    "for i in patient:\n",
    "    if patient[i][0] != 'None':\n",
    "        if int(patient[i][0]) <= average:\n",
    "            early_patient.append(i)\n",
    "        else:\n",
    "             late_patient.append(i)\n",
    "    else:\n",
    "        pass        \n",
    "print('early:%s,late:%s' %(early_patient,late_patient))    "
   ]
  },
  {
   "cell_type": "markdown",
   "metadata": {},
   "source": [
    "### 第六步:區分僅在早照會或是僅在晚照會才會使用的藥物，並分別記錄在earlydrug 和 lastdrug list中"
   ]
  },
  {
   "cell_type": "code",
   "execution_count": 10,
   "metadata": {},
   "outputs": [],
   "source": [
    "#早期用藥\n",
    "earlydrug=[]\n",
    "for i in early_patient:\n",
    "    for j,k in enumerate(patient[i]):\n",
    "        if j != 0:\n",
    "            if k in earlydrug:\n",
    "                pass\n",
    "            else:\n",
    "                earlydrug.append(k)"
   ]
  },
  {
   "cell_type": "code",
   "execution_count": 11,
   "metadata": {},
   "outputs": [],
   "source": [
    "#晚期用藥\n",
    "latedrug=[]\n",
    "for i in late_patient:\n",
    "    for j,k in enumerate(patient[i]):\n",
    "        if j != 0:\n",
    "            if k in latedrug:\n",
    "                pass\n",
    "            else:\n",
    "                latedrug.append(k)"
   ]
  },
  {
   "cell_type": "code",
   "execution_count": 12,
   "metadata": {},
   "outputs": [],
   "source": [
    "distinct_drug=dict()\n",
    "distinct_drug[\"early\"]=[]\n",
    "for k in earlydrug:\n",
    "    if k in latedrug:\n",
    "        pass\n",
    "    else:\n",
    "        distinct_drug[\"early\"].append(k)"
   ]
  },
  {
   "cell_type": "code",
   "execution_count": 13,
   "metadata": {},
   "outputs": [],
   "source": [
    "distinct_drug[\"late\"]=[]\n",
    "for k in latedrug:\n",
    "    if k in earlydrug:\n",
    "        pass\n",
    "    else:\n",
    "        distinct_drug[\"late\"].append(k)"
   ]
  },
  {
   "cell_type": "markdown",
   "metadata": {},
   "source": [
    "### 第七步:分別建立numberofpatientforearly 以及 numberofpatientforlast 兩個dictionary，將藥物作為key，value則為有幾位早/晚照會病患使用此藥物的病人數，並且由多到寡排序。"
   ]
  },
  {
   "cell_type": "code",
   "execution_count": 14,
   "metadata": {},
   "outputs": [
    {
     "name": "stdout",
     "output_type": "stream",
     "text": [
      "[('\"present\"', 9), ('\"RT\"', 8), ('\"record\"', 8), ('\"engorgement\"', 6), ('\"still\"', 6), ('\"CVA\"', 5), ('\"specimen\"', 5), ('\"aldactone\"', 5), ('\"spiriva\"', 5), ('\"matter\"', 5), ('\"cap\"', 5), ('\"progression\"', 5), ('\"vasopressor\"', 5), ('\"prominent\"', 5), ('\"enhancement\"', 5), ('\"correlated\"', 5), ('\"C1\"', 5), ('\"drowsy\"', 5), ('\"thalidomide\"', 4), ('\"adrenal\"', 4), ('\"anxiety\"', 4), ('\"bed\"', 4), ('\"periventricular\"', 4), ('\"sulci\"', 4), ('\"delirium\"', 4), ('\"common\"', 4), ('\"IAI\"', 4), ('\"LM\"', 4), ('\"nut\"', 4), ('\"tremor\"', 4), ('\"appearance\"', 4), ('\"allegra\"', 4), ('\"hoarseness\"', 4), ('\"psychiatric\"', 4), ('\"component\"', 4), ('\"deformity\"', 4), ('\"HLA\"', 4), ('\"titration\"', 4), ('\"use\"', 4), ('\"shadow\"', 4), ('\"infection\"', 4), ('\"COP\"', 4), ('\"COPD\"', 4), ('\"are\"', 4), ('\"enzymes\"', 4), ('\"fibrosis\"', 4), ('\"Kcal\"', 4), ('\"BiPAP\"', 3), ('\"bag\"', 3), ('\"defect\"', 3), ('\"dosage\"', 3), ('\"nonreactive\"', 3), ('\"odynophagia\"', 3), ('\"rhinorrhea\"', 3), ('\"ventricles\"', 3), ('\"four\"', 3), ('\"zone\"', 3), ('\"atrovent\"', 3), ('\"betaloc\"', 3), ('\"bedsore\"', 3), ('\"diameter\"', 3), ('\"trihydrate\"', 3), ('\"balloon\"', 3), ('\"penicillin\"', 3), ('\"stupor\"', 3), ('\"resolution\"', 3), ('\"inadequate\"', 3), ('\"flagyl\"', 3), ('\"hydrocortisone\"', 3), ('\"cozaar\"', 3), ('\"plavix\"', 3), ('\"captopril\"', 3), ('\"lanoxin\"', 3), ('\"zithromax\"', 3), ('\"cisplatin\"', 3), ('\"furosemide\"', 3), ('\"valsartan\"', 3), ('\"chlorpromazine\"', 3), ('\"estradiol\"', 3), ('\"exforge\"', 3), ('\"meloxicam\"', 3), ('\"oxacillin\"', 3), ('\"acetaminophen\"', 3), ('\"famotidine\"', 3), ('\"cubicin\"', 3), ('\"nasonex\"', 3), ('\"pce\"', 3), ('\"wbc\"', 3), ('\"ulcers\"', 3), ('\"ATA\"', 3), ('\"protein\"', 3), ('\"vancomycin\"', 3), ('\"visible\"', 3), ('\"abp\"', 3), ('\"THR\"', 3), ('\"sepsis\"', 3), ('\"gain\"', 3), ('\"stop\"', 3), ('\"rupture\"', 3), ('\"steroid\"', 3), ('\"fibrotic\"', 3), ('\"folic\"', 3), ('\"VAS\"', 3), ('\"see\"', 3), ('\"urinalysis\"', 3), ('\"surgeon\"', 3), ('\"distal\"', 3), ('\"intercostal\"', 3), ('\"enlarged\"', 3), ('\"interstitial\"', 3), ('\"RNA\"', 3), ('\"femoral\"', 3), ('\"brachial\"', 3), ('\"cirrhosis\"', 3), ('\"ppi\"', 3), ('\"administer\"', 3), ('\"rhythm\"', 3), ('\"complex\"', 3), ('\"drainage\"', 3), ('\"attack\"', 3), ('\"pressure\"', 3), ('\"SJS\"', 2), ('\"NSTEMI\"', 2), ('\"CRS\"', 2), ('\"BMT\"', 2), ('\"phenytoin\"', 2), ('\"tigecycline\"', 2), ('\"vfend\"', 2), ('\"carboplatin\"', 2), ('\"alpha\"', 2), ('\"sirolimus\"', 2), ('\"dilantin\"', 2), ('\"aerogenes\"', 2), ('\"allodynia\"', 2), ('\"dislocation\"', 2), ('\"indication\"', 2), ('\"menstruation\"', 2), ('\"piperacillin\"', 2), ('\"urobilinogen\"', 2), ('\"foramen\"', 2), ('\"frequent\"', 2), ('\"fungal\"', 2), ('\"fungus\"', 2), ('\"pharmacist\"', 2), ('\"pharyngeal\"', 2), ('\"solution\"', 2), ('\"sonography\"', 2), ('\"staphylococci\"', 2), ('\"animal\"', 2), ('\"big\"', 2), ('\"bronchial\"', 2), ('\"atherosclerosis\"', 2), ('\"bedridden\"', 2), ('\"malignancy\"', 2), ('\"mastectomy\"', 2), ('\"migraine\"', 2), ('\"diaphragm\"', 2), ('\"proximal\"', 2), ('\"antihypertensives\"', 2), ('\"cardiology\"', 2), ('\"communication\"', 2), ('\"comparison\"', 2), ('\"sub\"', 2), ('\"automatic\"', 2), ('\"antrum\"', 2), ('\"delirious\"', 2), ('\"thrombus\"', 2), ('\"sperm\"', 2), ('\"suppository\"', 2), ('\"subjective\"', 2), ('\"temporal\"', 2), ('\"triceps\"', 2), ('\"simv\"', 2), ('\"staphylococcus\"', 2), ('\"style\"', 2), ('\"surrogate\"', 2), ('\"thiamine\"', 2), ('\"triage\"', 2), ('\"aqueous\"', 2), ('\"block\"', 2), ('\"cat\"', 2), ('\"panel\"', 2), ('\"S2\"', 2), ('\"S4\"', 2), ('\"VDRL\"', 2), ('\"psa\"', 2), ('\"rpr\"', 2), ('\"scope\"', 2), ('\"rales\"', 2), ('\"score\"', 2), ('\"tract\"', 2), ('\"UE\"', 2), ('\"lying\"', 2), ('\"sexual\"', 2), ('\"visual\"', 2), ('\"dental\"', 2), ('\"resting\"', 2), ('\"MS\"', 2), ('\"convulsion\"', 2), ('\"photophobia\"', 2), ('\"suicidality\"', 2), ('\"presentation\"', 2), ('\"infiltration\"', 2), ('\"kyphoscoliosis\"', 2), ('\"destructive\"', 2), ('\"read\"', 2), ('\"site\"', 2), ('\"puncture\"', 2), ('\"rhinitis\"', 2), ('\"ears\"', 2), ('\"hear\"', 2), ('\"radiopaque\"', 2), ('\"recurrent\"', 2), ('\"scattered\"', 2), ('\"twitching\"', 2), ('\"HCV\"', 2), ('\"LDL\"', 2), ('\"HDL\"', 2), ('\"atelectasis\"', 2), ('\"paranasal\"', 2), ('\"clinic\"', 2), ('\"doctor\"', 2), ('\"finger\"', 2), ('\"pigeon\"', 2), ('\"hematological\"', 2), ('\"dysphasia\"', 2), ('\"polyphagia\"', 2), ('\"artery\"', 2), ('\"transfusion\"', 2), ('\"hematologic\"', 2), ('\"nervousness\"', 2), ('\"orientation\"', 2), ('\"plastic\"', 2), ('\"emt\"', 2), ('\"depigmentation\"', 2), ('\"dilatation\"', 2), ('\"fields\"', 2), ('\"vessel\"', 2), ('\"circulation\"', 2), ('\"obstruction\"', 2), ('\"PSVT\"', 2), ('\"cyst\"', 2), ('\"weaning\"', 2), ('\"distension\"', 2), ('\"celsius\"', 2), ('\"bacillus\"', 2), ('\"severe\"', 2), ('\"CRT\"', 2), ('\"aggressive\"', 2), ('\"adalat\"', 2), ('\"primary\"', 2), ('\"ade\"', 2), ('\"FVC\"', 2), ('\"fibrinogen\"', 2), ('\"infarction\"', 2), ('\"obstructive\"', 2), ('\"bacilli\"', 2), ('\"relieve\"', 2), ('\"hemodynamics\"', 2), ('\"GIB\"', 2), ('\"heparinization\"', 2), ('\"PIP\"', 2), ('\"coffee\"', 2), ('\"Tx\"', 2), ('\"LMD\"', 2), ('\"scoliosis\"', 2), ('\"bricanyl\"', 2), ('\"extubate\"', 2), ('\"radiologist\"', 2), ('\"amaryl\"', 2), ('\"herbal\"', 2), ('\"checkup\"', 2), ('\"feeling\"', 2), ('\"set\"', 2), ('\"inhibitor\"', 2), ('\"ankle\"', 2), ('\"early\"', 2), ('\"polyp\"', 2), ('\"lipase\"', 2), ('\"smooth\"', 2), ('\"wheeze\"', 2), ('\"chemotherapy\"', 2), ('\"cepacia\"', 2), ('\"dulcolax\"', 2), ('\"caregiver\"', 2), ('\"limit\"', 2), ('\"preparation\"', 2), ('\"age\"', 2), ('\"babinski\"', 2), ('\"heart\"', 2), ('\"hyperuricemia\"', 2), ('\"rash\"', 2), ('\"lactate\"', 2), ('\"oxygen\"', 2), ('\"toe\"', 2), ('\"ica\"', 2), ('\"WNL\"', 2), ('\"spines\"', 2), ('\"soln\"', 2), ('\"ACA\"', 1), ('\"ARF\"', 1), ('\"PNA\"', 1), ('\"PEM\"', 1), ('\"FDG\"', 1), ('\"APS\"', 1), ('\"ACL\"', 1), ('\"CVD\"', 1), ('\"CBF\"', 1), ('\"MVP\"', 1), ('\"TKR\"', 1), ('\"CJD\"', 1), ('\"ITP\"', 1), ('\"HAV\"', 1), ('\"areas\"', 1), ('\"diffuse\"', 1), ('\"simple\"', 1), ('\"traction\"', 1), ('\"aspect\"', 1), ('\"peritoneal\"', 1), ('\"species\"', 1), ('\"mandible\"', 1), ('\"calf\"', 1), ('\"decubitus\"', 1), ('\"thoracentesis\"', 1), ('\"transarterial\"', 1), ('\"tropicalis\"', 1), ('\"turbid\"', 1), ('\"phleboliths\"', 1), ('\"plaques\"', 1), ('\"cerebellum\"', 1), ('\"class\"', 1), ('\"diagnostic\"', 1), ('\"sternotomy\"', 1), ('\"sternum\"', 1), ('\"subcarinal\"', 1), ('\"thoracocentesis\"', 1), ('\"anti\"', 1), ('\"bacteriuria\"', 1), ('\"obliterans\"', 1), ('\"oncology\"', 1), ('\"delayed\"', 1), ('\"devascularization\"', 1), ('\"ertapenem\"', 1), ('\"extubated\"', 1), ('\"stenotrophomonas\"', 1), ('\"substance\"', 1), ('\"subdural\"', 1), ('\"systolic\"', 1), ('\"intra\"', 1), ('\"prokinetic\"', 1), ('\"purulent\"', 1), ('\"afib\"', 1), ('\"aneurysm\"', 1), ('\"antiarrhythmia\"', 1), ('\"antiarrhythmic\"', 1), ('\"antimicrobial\"', 1), ('\"antithyroid\"', 1), ('\"prolapse\"', 1), ('\"radiology\"', 1), ('\"receptor\"', 1), ('\"moderately\"', 1), ('\"near\"', 1), ('\"number\"', 1), ('\"pancreatic\"', 1), ('\"paraneoplastic\"', 1), ('\"perigastric\"', 1), ('\"hyperechoic\"', 1), ('\"intrahepatic\"', 1), ('\"intraperitoneal\"', 1), ('\"isolation\"', 1), ('\"kinking\"', 1), ('\"resonance\"', 1), ('\"proliferative\"', 1), ('\"resolving\"', 1), ('\"sclerosis\"', 1), ('\"nerves\"', 1), ('\"neuron\"', 1), ('\"reduce\"', 1), ('\"technician\"', 1), ('\"thyroidectomy\"', 1), ('\"uroseptic\"', 1), ('\"uterine\"', 1), ('\"optimal\"', 1), ('\"particles\"', 1), ('\"paucimobilis\"', 1), ('\"permanent\"', 1), ('\"radiologic\"', 1), ('\"chloride\"', 1), ('\"cis\"', 1), ('\"cohesive\"', 1), ('\"nuclear\"', 1), ('\"osteosclerotic\"', 1), ('\"chemoradiotherapy\"', 1), ('\"absence\"', 1), ('\"uric\"', 1), ('\"washing\"', 1), ('\"lst\"', 1), ('\"lupus\"', 1), ('\"ortho\"', 1), ('\"chryseobacterium\"', 1), ('\"hybrid\"', 1), ('\"hypodensities\"', 1), ('\"hysterectomy\"', 1), ('\"paradoxical\"', 1), ('\"blocker\"', 1), ('\"orthopedic\"', 1), ('\"parenteral\"', 1), ('\"insult\"', 1), ('\"dependence\"', 1), ('\"drive\"', 1), ('\"aberrant\"', 1), ('\"akinesia\"', 1), ('\"akinetic\"', 1), ('\"hypoattenuation\"', 1), ('\"thickness\"', 1), ('\"veins\"', 1), ('\"summer\"', 1), ('\"humeral\"', 1), ('\"indirect\"', 1), ('\"gingiva\"', 1), ('\"bnp\"', 1), ('\"cadaveric\"', 1), ('\"cardiorenal\"', 1), ('\"immunosuppressant\"', 1), ('\"sick\"', 1), ('\"ero\"', 1), ('\"ganciclovir\"', 1), ('\"fosamax\"', 1), ('\"coumadin\"', 1), ('\"ampicillin\"', 1), ('\"entecavir\"', 1), ('\"unasyn\"', 1), ('\"ethambutol\"', 1), ('\"inderal\"', 1), ('\"risperdal\"', 1), ('\"azithromycin\"', 1), ('\"ceftriaxone\"', 1), ('\"amoxicillin\"', 1), ('\"topamax\"', 1), ('\"methylprednisolone\"', 1), ('\"carvedilol\"', 1), ('\"fluorescein\"', 1), ('\"hydroxychloroquine\"', 1), ('\"pantoprazole\"', 1), ('\"plaquenil\"', 1), ('\"xalatan\"', 1), ('\"avelox\"', 1), ('\"clonidine\"', 1), ('\"erythromycin\"', 1), ('\"mexitil\"', 1), ('\"nimbex\"', 1), ('\"xylocaine\"', 1), ('\"capecitabine\"', 1), ('\"herceptin\"', 1), ('\"xeloda\"', 1), ('\"clarithromycin\"', 1), ('\"indapamide\"', 1), ('\"crestor\"', 1), ('\"avastin\"', 1), ('\"alprazolam\"', 1), ('\"neupro\"', 1), ('\"alimta\"', 1), ('\"betamethasone\"', 1), ('\"claforan\"', 1), ('\"propofol\"', 1), ('\"tofranil\"', 1), ('\"lipitor\"', 1), ('\"navelbine\"', 1), ('\"paclitaxel\"', 1), ('\"paraplatin\"', 1), ('\"tarceva\"', 1), ('\"taxotere\"', 1), ('\"valtrex\"', 1), ('\"amikacin\"', 1), ('\"clindamycin\"', 1), ('\"enbrel\"', 1), ('\"mobic\"', 1), ('\"salagen\"', 1), ('\"trimethoprim\"', 1), ('\"cellcept\"', 1), ('\"ismo\"', 1), ('\"rapamune\"', 1), ('\"celebrex\"', 1), ('\"lamivudine\"', 1), ('\"PSA\"', 1), ('\"CRRT\"', 1), ('\"PMI\"', 1), ('\"DJD\"', 1), ('\"ICS\"', 1), ('\"pmi\"', 1), ('\"tests\"', 1), ('\"thrill\"', 1), ('\"vacuum\"', 1), ('\"aid\"', 1), ('\"densities\"', 1), ('\"phenomenon\"', 1), ('\"somnolence\"', 1), ('\"TSH\"', 1), ('\"cystoscope\"', 1), ('\"pyomyositis\"', 1), ('\"transrectal\"', 1), ('\"microscopic\"', 1), ('\"electric\"', 1), ('\"acneiform\"', 1), ('\"URI\"', 1), ('\"BPM\"', 1), ('\"hand\"', 1), ('\"hard\"', 1), ('\"hema\"', 1), ('\"port\"', 1), ('\"root\"', 1), ('\"solu\"', 1), ('\"term\"', 1), ('\"wing\"', 1), ('\"Oint\"', 1), ('\"tissues\"', 1), ('\"winslow\"', 1), ('\"end\"', 1), ('\"hemogram\"', 1), ('\"hemolysis\"', 1), ('\"hypodense\"', 1), ('\"immediate\"', 1), ('\"potential\"', 1), ('\"PAD\"', 1), ('\"ABI\"', 1), ('\"TBI\"', 1), ('\"filgrastim\"', 1), ('\"insect\"', 1), ('\"subclavicular\"', 1), ('\"lactulose\"', 1), ('\"neurology\"', 1), ('\"procedure\"', 1), ('\"intake\"', 1), ('\"strain\"', 1), ('\"folate\"', 1), ('\"iodine\"', 1), ('\"septum\"', 1), ('\"tortuous\"', 1), ('\"supraclavicular\"', 1), ('\"chamber\"', 1), ('\"nearest\"', 1), ('\"edematous\"', 1), ('\"gastritis\"', 1), ('\"hypofibrinogenemia\"', 1), ('\"intraabdominal\"', 1), ('\"aeruginosa\"', 1), ('\"subclavian\"', 1), ('\"hyperpotassemia\"', 1), ('\"crackle\"', 1), ('\"inotrope\"', 1), ('\"hypothyroidism\"', 1), ('\"infiltrate\"', 1), ('\"influenzae\"', 1), ('\"osteopenic\"', 1), ('\"therapeutic\"', 1), ('\"rib\"', 1), ('\"ischium\"', 1), ('\"labeled\"', 1), ('\"spinous\"', 1), ('\"lft\"', 1), ('\"used\"', 1), ('\"invasion\"', 1), ('\"dull\"', 1), ('\"june\"', 1), ('\"FNA\"', 1), ('\"radiography\"', 1), ('\"images\"', 1), ('\"sinusitis\"', 1), ('\"esophagogastroduodenoscopy\"', 1), ('\"ambulation\"', 1), ('\"dissection\"', 1), ('\"osteolytic\"', 1), ('\"osteophyte\"', 1), ('\"ORIF\"', 1), ('\"flutter\"', 1), ('\"intraductal\"', 1), ('\"balance\"', 1), ('\"doppler\"', 1), ('\"douglas\"', 1), ('\"lag\"', 1), ('\"hepatic\"', 1), ('\"engorged\"', 1), ('\"indicate\"', 1), ('\"urethral\"', 1), ('\"late\"', 1), ('\"meal\"', 1), ('\"nesp\"', 1), ('\"thoracolumbar\"', 1), ('\"epigastralgia\"', 1), ('\"equivocal\"', 1), ('\"fecal\"', 1), ('\"UTI\"', 1), ('\"amiodarone\"', 1), ('\"hypoechoic\"', 1), ('\"likelihood\"', 1), ('\"ferrum\"', 1), ('\"NSAID\"', 1), ('\"interlobular\"', 1), ('\"rush\"', 1), ('\"SICU\"', 1), ('\"cerebrovascular\"', 1), ('\"suffocation\"', 1), ('\"statins\"', 1), ('\"walking\"', 1), ('\"too\"', 1), ('\"border\"', 1), ('\"shared\"', 1), ('\"RBBB\"', 1), ('\"collaterals\"', 1), ('\"correctable\"', 1), ('\"unarousable\"', 1), ('\"intense\"', 1), ('\"spindle\"', 1), ('\"lie\"', 1), ('\"uro\"', 1), ('\"metallic\"', 1), ('\"vimentin\"', 1), ('\"rbbb\"', 1), ('\"step\"', 1), ('\"ICD\"', 1), ('\"IHD\"', 1), ('\"extubation\"', 1), ('\"hematology\"', 1), ('\"hemithorax\"', 1), ('\"lactorrhea\"', 1), ('\"viral\"', 1), ('\"somnolent\"', 1), ('\"graft\"', 1), ('\"MDS\"', 1), ('\"SCT\"', 1), ('\"cellulitis\"', 1), ('\"dorsum\"', 1), ('\"fusion\"', 1), ('\"dynamic\"', 1), ('\"attenuation\"', 1), ('\"disposition\"', 1), ('\"icterus\"', 1), ('\"extended\"', 1), ('\"railroad\"', 1), ('\"GU\"', 1), ('\"MM\"', 1), ('\"pelvis\"', 1), ('\"stones\"', 1), ('\"pacemaker\"', 1), ('\"faint\"', 1), ('\"cardioversion\"', 1), ('\"crest\"', 1), ('\"entry\"', 1), ('\"group\"', 1), ('\"minor\"', 1), ('\"staff\"', 1), ('\"RFT\"', 1), ('\"growth\"', 1), ('\"ureter\"', 1), ('\"inflammation\"', 1), ('\"supraventricular\"', 1), ('\"intracardial\"', 1), ('\"regeneration\"', 1), ('\"terlipressin\"', 1), ('\"adrenals\"', 1), ('\"immature\"', 1), ('\"incision\"', 1), ('\"able\"', 1), ('\"bcaa\"', 1), ('\"ecog\"', 1), ('\"EPS\"', 1), ('\"VSD\"', 1), ('\"IgM\"', 1), ('\"ascites\"', 1), ('\"levels\"', 1), ('\"osteoarthritis\"', 1), ('\"collecting\"', 1), ('\"leukopenia\"', 1), ('\"tazobactam\"', 1), ('\"MRSA\"', 1), ('\"ESBL\"', 1), ('\"got\"', 1), ('\"vaccination\"', 1), ('\"courses\"', 1), ('\"erosive\"', 1), ('\"stomach\"', 1), ('\"varices\"', 1), ('\"voiding\"', 1), ('\"ans\"', 1), ('\"eps\"', 1), ('\"centrilobular\"', 1), ('\"proliferation\"', 1), ('\"transurethral\"', 1), ('\"karnofsky\"', 1), ('\"urokinase\"', 1), ('\"laser\"', 1), ('\"patch\"', 1), ('\"rigid\"', 1), ('\"zydis\"', 1), ('\"SDH\"', 1), ('\"SAH\"', 1), ('\"member\"', 1), ('\"thrombosis\"', 1), ('\"megakaryocytes\"', 1), ('\"hydroceles\"', 1), ('\"absent\"', 1), ('\"canula\"', 1), ('\"induce\"', 1), ('\"insert\"', 1), ('\"pip\"', 1), ('\"compartment\"', 1), ('\"scratch\"', 1), ('\"septal\"', 1), ('\"pnd\"', 1), ('\"emergent\"', 1), ('\"knee\"', 1), ('\"angiographic\"', 1), ('\"infiltrative\"', 1), ('\"abrasion\"', 1), ('\"behavior\"', 1), ('\"dextrose\"', 1), ('\"pinpoint\"', 1), ('\"ache\"', 1), ('\"cuff\"', 1), ('\"leak\"', 1), ('\"cephalization\"', 1), ('\"pneumonic\"', 1), ('\"psychosis\"', 1), ('\"pulmonic\"', 1), ('\"refeeding\"', 1), ('\"secretion\"', 1), ('\"guard\"', 1), ('\"SIMV\"', 1), ('\"pci\"', 1), ('\"bronchogram\"', 1), ('\"retinopathy\"', 1), ('\"hoffman\"', 1), ('\"acs\"', 1), ('\"cdc\"', 1), ('\"flu\"', 1), ('\"anterior\"', 1), ('\"burkholderia\"', 1), ('\"biatrial\"', 1), ('\"bulb\"', 1), ('\"cpap\"', 1), ('\"gray\"', 1), ('\"hypercalcemia\"', 1), ('\"hands\"', 1), ('\"infundibular\"', 1), ('\"schizophrenic\"', 1), ('\"fractured\"', 1), ('\"objective\"', 1), ('\"EMS\"', 1), ('\"saturation\"', 1), ('\"called\"', 1), ('\"MSSA\"', 1), ('\"rhabdomyolysis\"', 1), ('\"incontinent\"', 1), ('\"calcium\"', 1), ('\"thought\"', 1), ('\"ems\"', 1), ('\"lip\"', 1), ('\"impressed\"', 1), ('\"gluconate\"', 1), ('\"pulseless\"', 1), ('\"bread\"', 1), ('\"SVC\"', 1), ('\"background\"', 1), ('\"dermopathy\"', 1), ('\"normocytic\"', 1), ('\"acuity\"', 1), ('\"ataxia\"', 1), ('\"eating\"', 1), ('\"HCAP\"', 1), ('\"prophylaxis\"', 1), ('\"esophagitis\"', 1), ('\"brachioradialis\"', 1), ('\"bicarbonate\"', 1), ('\"drinker\"', 1), ('\"lithium\"', 1), ('\"measure\"', 1), ('\"hbr\"', 1), ('\"rim\"', 1), ('\"percutaneous\"', 1), ('\"hypertensive\"', 1), ('\"director\"', 1), ('\"heimlich\"', 1), ('\"maneuver\"', 1), ('\"regional\"', 1), ('\"ventricle\"', 1), ('\"confusion\"', 1), ('\"sensitive\"', 1), ('\"hepar\"', 1), ('\"opium\"', 1), ('\"oxide\"', 1), ('\"prone\"', 1), ('\"SOB\"', 1), ('\"AAD\"', 1), ('\"SCC\"', 1), ('\"RIA\"', 1), ('\"CEA\"', 1), ('\"GPT\"', 1), ('\"atrial\"', 1), ('\"autoregulation\"', 1), ('\"hyperlipidemia\"', 1), ('\"interpretation\"', 1), ('\"metoprolol\"', 1), ('\"quetiapine\"', 1), ('\"chrono\"', 1), ('\"frozen\"', 1), ('\"prostate\"', 1), ('\"ribs\"', 1), ('\"squamous\"', 1), ('\"organism\"', 1), ('\"seretide\"', 1), ('\"cardiologist\"', 1), ('\"epitrochlear\"', 1), ('\"valproic\"', 1), ('\"brow\"', 1), ('\"fore\"', 1), ('\"hypo\"', 1), ('\"Lat\"', 1), ('\"GFR\"', 1), ('\"pigtail\"', 1), ('\"pathologic\"', 1), ('\"resistance\"', 1), ('\"clonic\"', 1), ('\"minute\"', 1), ('\"proton\"', 1), ('\"spur\"', 1), ('\"catheterization\"', 1), ('\"hyperplasia\"', 1), ('\"parasternal\"', 1), ('\"parenchymal\"', 1), ('\"vascularity\"', 1), ('\"colloid\"', 1), ('\"sigmoid\"', 1), ('\"cel\"', 1), ('\"nap\"', 1), ('\"gaze\"', 1), ('\"position\"', 1), ('\"dextromethorphan\"', 1), ('\"parkinsonian\"', 1), ('\"glycerol\"', 1), ('\"mutation\"', 1), ('\"Hx\"', 1), ('\"stone\"', 1), ('\"weeks\"', 1), ('\"drain\"', 1), ('\"dysregulation\"', 1), ('\"emphysematous\"', 1), ('\"NSR\"', 1), ('\"IPF\"', 1), ('\"MAT\"', 1), ('\"submucosal\"', 1), ('\"descending\"', 1), ('\"hemisphere\"', 1), ('\"imbalanced\"', 1), ('\"T2DM\"', 1), ('\"ext\"', 1), ('\"pathologist\"', 1), ('\"exacerbated\"', 1), ('\"Bx\"', 1), ('\"antiepileptic\"', 1), ('\"LCX\"', 1), ('\"ANA\"', 1), ('\"CHF\"', 1), ('\"IgG\"', 1), ('\"SRS\"', 1), ('\"mucoid\"', 1), ('\"NYHA\"', 1), ('\"hypovolemic\"', 1), ('\"via\"', 1), ('\"teacher\"', 1), ('\"tip\"', 1), ('\"order\"', 1), ('\"valvular\"', 1), ('\"cava\"', 1), ('\"vena\"', 1)]\n"
     ]
    }
   ],
   "source": [
    "numberofpatientforearly=dict()\n",
    "for i in distinct_drug[\"early\"]:\n",
    "    numberofpatientforearly[i]=0\n",
    "    for k in patient:\n",
    "        if i in patient[k]:\n",
    "            numberofpatientforearly[i] +=1\n",
    "kforearly=sorted(numberofpatientforearly.items(),key= lambda e: e[1] , reverse=True)\n",
    "print(kforearly) "
   ]
  },
  {
   "cell_type": "code",
   "execution_count": 15,
   "metadata": {},
   "outputs": [],
   "source": [
    "numberofpatientforlate=dict()\n",
    "for i in distinct_drug[\"late\"]:\n",
    "    numberofpatientforlate[i]=0\n",
    "    for k in patient:\n",
    "        if i in patient[k]:\n",
    "            numberofpatientforlate[i] +=1\n",
    "kforlate=sorted(numberofpatientforlate.items(),key= lambda e: e[1] , reverse=True)"
   ]
  },
  {
   "cell_type": "markdown",
   "metadata": {},
   "source": [
    "### 第八步:針對僅在早照會病患使用的藥物以及病人數資料，建立成dataframe的資料，方便探勘以及後續視覺化。"
   ]
  },
  {
   "cell_type": "code",
   "execution_count": 16,
   "metadata": {},
   "outputs": [
    {
     "data": {
      "text/html": [
       "<div>\n",
       "<style scoped>\n",
       "    .dataframe tbody tr th:only-of-type {\n",
       "        vertical-align: middle;\n",
       "    }\n",
       "\n",
       "    .dataframe tbody tr th {\n",
       "        vertical-align: top;\n",
       "    }\n",
       "\n",
       "    .dataframe thead th {\n",
       "        text-align: right;\n",
       "    }\n",
       "</style>\n",
       "<table border=\"1\" class=\"dataframe\">\n",
       "  <thead>\n",
       "    <tr style=\"text-align: right;\">\n",
       "      <th></th>\n",
       "      <th>0</th>\n",
       "      <th>1</th>\n",
       "    </tr>\n",
       "  </thead>\n",
       "  <tbody>\n",
       "    <tr>\n",
       "      <th>0</th>\n",
       "      <td>\"present\"</td>\n",
       "      <td>9</td>\n",
       "    </tr>\n",
       "    <tr>\n",
       "      <th>1</th>\n",
       "      <td>\"RT\"</td>\n",
       "      <td>8</td>\n",
       "    </tr>\n",
       "    <tr>\n",
       "      <th>2</th>\n",
       "      <td>\"record\"</td>\n",
       "      <td>8</td>\n",
       "    </tr>\n",
       "    <tr>\n",
       "      <th>3</th>\n",
       "      <td>\"engorgement\"</td>\n",
       "      <td>6</td>\n",
       "    </tr>\n",
       "    <tr>\n",
       "      <th>4</th>\n",
       "      <td>\"still\"</td>\n",
       "      <td>6</td>\n",
       "    </tr>\n",
       "  </tbody>\n",
       "</table>\n",
       "</div>"
      ],
      "text/plain": [
       "               0  1\n",
       "0      \"present\"  9\n",
       "1           \"RT\"  8\n",
       "2       \"record\"  8\n",
       "3  \"engorgement\"  6\n",
       "4        \"still\"  6"
      ]
     },
     "execution_count": 16,
     "metadata": {},
     "output_type": "execute_result"
    }
   ],
   "source": [
    "df = pd.DataFrame(kforearly,index=range(len(numberofpatientforearly)) )\n",
    "df.head()"
   ]
  },
  {
   "cell_type": "code",
   "execution_count": 17,
   "metadata": {},
   "outputs": [],
   "source": [
    "x=[]\n",
    "y=[]\n",
    "for k in kforearly:\n",
    "    if k[1]>=6:\n",
    "        x.append(k[0])\n",
    "        y.append(k[1])"
   ]
  },
  {
   "cell_type": "markdown",
   "metadata": {},
   "source": [
    "### 第九步:顯示僅在早照會病患中使用的前五大藥物，"
   ]
  },
  {
   "cell_type": "code",
   "execution_count": 18,
   "metadata": {},
   "outputs": [
    {
     "data": {
      "text/plain": [
       "<BarContainer object of 5 artists>"
      ]
     },
     "execution_count": 18,
     "metadata": {},
     "output_type": "execute_result"
    },
    {
     "data": {
      "image/png": "[encoded data removed]",
      "text/plain": [
       "<Figure size 432x288 with 1 Axes>"
      ]
     },
     "metadata": {
      "needs_background": "light"
     },
     "output_type": "display_data"
    }
   ],
   "source": [
    "#早照會中前五大主要被使用的藥品\n",
    "plt.bar(x,y,width=0.5)"
   ]
  },
  {
   "cell_type": "markdown",
   "metadata": {},
   "source": [
    "### 第十步:重複第八步以及第九步的步驟，套用在晚照會的病人中"
   ]
  },
  {
   "cell_type": "code",
   "execution_count": 19,
   "metadata": {},
   "outputs": [],
   "source": [
    "x2=[]\n",
    "y2=[]\n",
    "for k in kforlate:\n",
    "    if k[1]>=5:\n",
    "        x2.append(k[0])\n",
    "        y2.append(k[1])"
   ]
  },
  {
   "cell_type": "code",
   "execution_count": 20,
   "metadata": {},
   "outputs": [
    {
     "data": {
      "text/plain": [
       "<BarContainer object of 5 artists>"
      ]
     },
     "execution_count": 20,
     "metadata": {},
     "output_type": "execute_result"
    },
    {
     "data": {
      "image/png": "[encoded data removed]",
      "text/plain": [
       "<Figure size 432x288 with 1 Axes>"
      ]
     },
     "metadata": {
      "needs_background": "light"
     },
     "output_type": "display_data"
    }
   ],
   "source": [
    "#晚照會中前五大主要被使用的藥品\n",
    "plt.bar(x2,y2,width=0.5)"
   ]
  }
 ],
 "metadata": {
  "kernelspec": {
   "display_name": "Python 3",
   "language": "python",
   "name": "python3"
  },
  "language_info": {
   "codemirror_mode": {
    "name": "ipython",
    "version": 3
   },
   "file_extension": ".py",
   "mimetype": "text/x-python",
   "name": "python",
   "nbconvert_exporter": "python",
   "pygments_lexer": "ipython3",
   "version": "3.7.2"
  }
 },
 "nbformat": 4,
 "nbformat_minor": 2
}
