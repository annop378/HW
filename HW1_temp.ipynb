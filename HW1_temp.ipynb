{
 "cells": [
  {
   "cell_type": "code",
   "execution_count": 1,
   "metadata": {},
   "outputs": [
    {
     "data": {
      "text/html": [
       "<div>\n",
       "<style scoped>\n",
       "    .dataframe tbody tr th:only-of-type {\n",
       "        vertical-align: middle;\n",
       "    }\n",
       "\n",
       "    .dataframe tbody tr th {\n",
       "        vertical-align: top;\n",
       "    }\n",
       "\n",
       "    .dataframe thead th {\n",
       "        text-align: right;\n",
       "    }\n",
       "</style>\n",
       "<table border=\"1\" class=\"dataframe\">\n",
       "  <thead>\n",
       "    <tr style=\"text-align: right;\">\n",
       "      <th></th>\n",
       "      <th>Unnamed: 0</th>\n",
       "      <th>1</th>\n",
       "      <th>2</th>\n",
       "      <th>3</th>\n",
       "      <th>4</th>\n",
       "      <th>5</th>\n",
       "      <th>6</th>\n",
       "      <th>7</th>\n",
       "      <th>8</th>\n",
       "      <th>9</th>\n",
       "      <th>...</th>\n",
       "      <th>175671</th>\n",
       "      <th>17571</th>\n",
       "      <th>17575</th>\n",
       "      <th>17583</th>\n",
       "      <th>17597</th>\n",
       "      <th>17600</th>\n",
       "      <th>17602</th>\n",
       "      <th>17641</th>\n",
       "      <th>17645</th>\n",
       "      <th>17651</th>\n",
       "    </tr>\n",
       "  </thead>\n",
       "  <tbody>\n",
       "    <tr>\n",
       "      <th>0</th>\n",
       "      <td>.rownames</td>\n",
       "      <td>MICU</td>\n",
       "      <td>ER</td>\n",
       "      <td>IAI</td>\n",
       "      <td>CRRT</td>\n",
       "      <td>PSA</td>\n",
       "      <td>ADLs</td>\n",
       "      <td>on</td>\n",
       "      <td>CXR</td>\n",
       "      <td>CK</td>\n",
       "      <td>...</td>\n",
       "      <td>adenosine</td>\n",
       "      <td>bout</td>\n",
       "      <td>china</td>\n",
       "      <td>giant</td>\n",
       "      <td>scd</td>\n",
       "      <td>svt</td>\n",
       "      <td>termination</td>\n",
       "      <td>osteomyelitis</td>\n",
       "      <td>pseudophakia</td>\n",
       "      <td>steal</td>\n",
       "    </tr>\n",
       "    <tr>\n",
       "      <th>1</th>\n",
       "      <td>X1</td>\n",
       "      <td>X1</td>\n",
       "      <td>X1</td>\n",
       "      <td>X1</td>\n",
       "      <td>X1</td>\n",
       "      <td>X1</td>\n",
       "      <td>X1</td>\n",
       "      <td>X1</td>\n",
       "      <td>X1</td>\n",
       "      <td>X1</td>\n",
       "      <td>...</td>\n",
       "      <td>0</td>\n",
       "      <td>0</td>\n",
       "      <td>0</td>\n",
       "      <td>0</td>\n",
       "      <td>0</td>\n",
       "      <td>0</td>\n",
       "      <td>0</td>\n",
       "      <td>0</td>\n",
       "      <td>0</td>\n",
       "      <td>0</td>\n",
       "    </tr>\n",
       "    <tr>\n",
       "      <th>2</th>\n",
       "      <td>X2</td>\n",
       "      <td>0</td>\n",
       "      <td>X2</td>\n",
       "      <td>0</td>\n",
       "      <td>0</td>\n",
       "      <td>0</td>\n",
       "      <td>0</td>\n",
       "      <td>X2</td>\n",
       "      <td>X2</td>\n",
       "      <td>0</td>\n",
       "      <td>...</td>\n",
       "      <td>0</td>\n",
       "      <td>0</td>\n",
       "      <td>0</td>\n",
       "      <td>0</td>\n",
       "      <td>0</td>\n",
       "      <td>0</td>\n",
       "      <td>0</td>\n",
       "      <td>0</td>\n",
       "      <td>0</td>\n",
       "      <td>0</td>\n",
       "    </tr>\n",
       "    <tr>\n",
       "      <th>3</th>\n",
       "      <td>X3</td>\n",
       "      <td>0</td>\n",
       "      <td>X3</td>\n",
       "      <td>0</td>\n",
       "      <td>0</td>\n",
       "      <td>0</td>\n",
       "      <td>0</td>\n",
       "      <td>X3</td>\n",
       "      <td>X3</td>\n",
       "      <td>X3</td>\n",
       "      <td>...</td>\n",
       "      <td>0</td>\n",
       "      <td>0</td>\n",
       "      <td>0</td>\n",
       "      <td>0</td>\n",
       "      <td>0</td>\n",
       "      <td>0</td>\n",
       "      <td>0</td>\n",
       "      <td>0</td>\n",
       "      <td>0</td>\n",
       "      <td>0</td>\n",
       "    </tr>\n",
       "    <tr>\n",
       "      <th>4</th>\n",
       "      <td>X4</td>\n",
       "      <td>0</td>\n",
       "      <td>0</td>\n",
       "      <td>0</td>\n",
       "      <td>0</td>\n",
       "      <td>0</td>\n",
       "      <td>0</td>\n",
       "      <td>X4</td>\n",
       "      <td>X4</td>\n",
       "      <td>0</td>\n",
       "      <td>...</td>\n",
       "      <td>0</td>\n",
       "      <td>0</td>\n",
       "      <td>0</td>\n",
       "      <td>0</td>\n",
       "      <td>0</td>\n",
       "      <td>0</td>\n",
       "      <td>0</td>\n",
       "      <td>0</td>\n",
       "      <td>0</td>\n",
       "      <td>0</td>\n",
       "    </tr>\n",
       "  </tbody>\n",
       "</table>\n",
       "<p>5 rows × 5153 columns</p>\n",
       "</div>"
      ],
      "text/plain": [
       "  Unnamed: 0     1   2    3     4    5     6   7    8   9  ...     175671  \\\n",
       "0  .rownames  MICU  ER  IAI  CRRT  PSA  ADLs  on  CXR  CK  ...  adenosine   \n",
       "1         X1    X1  X1   X1    X1   X1    X1  X1   X1  X1  ...          0   \n",
       "2         X2     0  X2    0     0    0     0  X2   X2   0  ...          0   \n",
       "3         X3     0  X3    0     0    0     0  X3   X3  X3  ...          0   \n",
       "4         X4     0   0    0     0    0     0  X4   X4   0  ...          0   \n",
       "\n",
       "  17571  17575  17583 17597 17600        17602          17641         17645  \\\n",
       "0  bout  china  giant   scd   svt  termination  osteomyelitis  pseudophakia   \n",
       "1     0      0      0     0     0            0              0             0   \n",
       "2     0      0      0     0     0            0              0             0   \n",
       "3     0      0      0     0     0            0              0             0   \n",
       "4     0      0      0     0     0            0              0             0   \n",
       "\n",
       "   17651  \n",
       "0  steal  \n",
       "1      0  \n",
       "2      0  \n",
       "3      0  \n",
       "4      0  \n",
       "\n",
       "[5 rows x 5153 columns]"
      ]
     },
     "execution_count": 1,
     "metadata": {},
     "output_type": "execute_result"
    }
   ],
   "source": [
    "import matplotlib.pyplot as plt\n",
    "import pandas as pd\n",
    "import numpy as np\n",
    "\n",
    "dfall = pd.read_csv('dfall.csv')\n",
    "dfall.head()"
   ]
  },
  {
   "cell_type": "code",
   "execution_count": 2,
   "metadata": {},
   "outputs": [],
   "source": [
    "patient=dict()\n",
    "drug=[]\n",
    "for patientid,row in enumerate(open('dfall.csv')):\n",
    "    if patientid == 0:\n",
    "        pass\n",
    "    elif patientid == 1:\n",
    "        for i,k in enumerate(row.split(',')):\n",
    "            drug.append(k)\n",
    "    else:\n",
    "        patient[patientid-1]=[]\n",
    "        for drugid,yes in enumerate(row.split(',')):\n",
    "            if drugid >= 1 :\n",
    "                if yes != 0 :\n",
    "                    patient[patientid-1].append(drug[drugid])\n",
    "            else:\n",
    "                pass"
   ]
  },
  {
   "cell_type": "code",
   "execution_count": 3,
   "metadata": {},
   "outputs": [
    {
     "name": "stdout",
     "output_type": "stream",
     "text": [
      "['MICU', 'ER', 'IAI', 'CRRT', 'PSA', 'ADLs', 'on', 'CXR', 'CK', 'CT', 'BUN', 'HD', 'CVC', 'NKA', 'ADR', 'IF', 'SC', 'NPH', 'Inj', 'IV', 'PO', 'BMI', 'BW', 'kg', 'BP', 'HEENT', 'LAP', 'PMI', 'S1', 'S2', 'S3', 'S4', 'RL', 'PH', 'HCO3', 'CBC', 'PLT', 'WBC', 'RBC', 'HB', 'HCT', 'MCV', 'dL', 'MCH', 'MCHC', 'RDW', 'CV', 'CRE', 'Na', 'Ca', 'Mg', 'AST', 'CKMB', 'BNP', 'ALT', 'ALP', 'HPF', 'Gr', 'SA', 'VDRL', 'RPR', 'VH', 'HIV', 'Ag', 'Ab', 'dl', 'ID', 'DS', 'Hb', 'Hct', 'BK', 'ABO', 'CBD', 'KUB', 'DJD', 'AP', 'LLL', 'AKI', 'ED', 'BT', 'ABG', 'CVVH', 'VS', 'ETT', 'DNR', 'GI', 'NPO', 'NG', 'PPI', 'EGD', 'IE', 'AI', 'RT', 'MRI', 'ICH', 'ICU', 'SR', 'TID', 'RUQ', 'ROM', 'GCS', 'RUE', 'LLE', 'RLE', 'VA', 'EOM', 'PT', 'PTT', 'INR', 'PA', 'SBP', 'CPR', 'ECMO', 'OP', 'hr', 'PEEP', 'RML', 'RLL', 'RUL', 'OPD', 'TPR', 'Lab', 'NS', 'ENT', 'LV', 'RV', 'UA', 'Cl', 'PM', 'HR', 'DTR', 'EEG', 'PEA', 'PCR', 'CPK', 'ET', 'CVS', 'CPCR', 'NO', 'Post', 'LVEF', 'MR', 'PR', 'TR', 'DDAVP', 'O2', 'CRP', 'PCV', 'IP', 'RR', 'ACTH', 'MC', 'HTN', 'ARDS', 'DI', 'MTX', 'NEC', 'CNS', 'ALL', 'HE', 'BC', 'GGT', 'LDH', 'ESR', 'DIC', 'FDP', 'IU', 'SE', 'GBM', 'ANCA', 'DNA', 'SS', 'SB', 'RA', 'LUL', 'LN', 'Abd', 'GB', 'TPN', 'VRE', 'CVP', 'MAP', 'HSV', 'PE', 'D5W', 'CSF', 'US', 'PD', 'LOP', 'aPTT', 'CVAD', 'EKG', 'DU', 'OM', 'VBG', 'CMV', 'D5', 'AED', 'Hema', 'MIC', 'SJS', 'HLA', 'OU', 'OB', 'Oint', 'CA', 'FA', 'PTA', 'CKD', 'GERD', 'PEG', 'ESRD', 'UGI', 'OR', 'SVR', 'AVF', 'PAOD', 'DVT', 'hs', 'HCV', 'TG', 'CHO', 'LDL', 'HDL', 'DM', 'AC', 'TIBC', 'PAD', 'ABI', 'TBI', 'CVA', 'ATA', 'NE', 'ROSC', 'THR', 'C2', 'HCC', 'HBV', 'RFA', 'LLQ', 'AFP', 'ECG', 'ST', 'PSVT', 'LFT', 'PV', 'RVR', 'CS', 'ORIF', 'CAD', 'TP', 'HbA1c', 'NSAID', 'UTI', 'CO2', 'PPD', 'Exam', 'LAD', 'PDA', 'RCA', 'MI', 'PCI', 'DAPT', 'STEMI', 'SICU', 'AF', 'PET', 'FEV1', 'FVC', 'COPD', 'BiPAP', 'RBBB', 'TB', 'CABG', 'ICD', 'EM', 'pen', 'CRT', 'IHD', 'GIB', 'NSTEMI', 'MDS', 'SCT', 'PIP', 'BM', 'LA', 'od', 'FL', 'LMD', 'IA', 'HA', 'met', 'GU', 'RFT', 'Tx', 'EPS', 'CAP', 'VSD', 'MRSA', 'IgM', 'SM', 'VE', 'BS', 'BE', 'CR', 'ESBL', 'DW', 'SDH', 'SAH', 'SAD', 'IVH', 'PND', 'VT', 'CDC', 'ACS', 'AB', 'CAG', 'IO', 'CPAP', 'SIMV', 'RCC', 'EMS', 'MSSA', 'Supp', 'HCAP', 'RF', 'SVC', 'SOB', 'AS', 'AAD', 'CRS', 'Ext', 'SCC', 'RIA', 'CEA', 'Cr', 'GPT', 'VAS', 'PCN', 'POD', 'AK', 'CFS', 'FFP', 'Hx', 'NSR', 'ABD', 'WNL', 'T2DM', 'IPF', 'IT', 'BMT', 'LCX', 'ANA', 'NYHA', 'CHF', 'IgG', 'MgSO4', 'RNA', 'PTU', 'TSH', 'TA', 'HIT', 'SMA', 'AMI', 'CCU', 'MPV', 'AV', 'ERCP', 'EDV', 'ESV', 'EF', 'SV', 'LVOT', 'Lat', 'GYN', 'CTA', 'LM', 'BMS', 'IABP', 'PML', 'OS', 'OD', 'TTS', 'ICS', 'TEE', 'OA', 'MCA', 'HT', 'ICP', 'BIS', 'ACA', 'CN', 'SVG', 'AAA', 'IVF', 'LGA', 'RSI', 'ND', 'TTP', 'TTE', 'ARF', 'SI', 'FLAIR', 'ELISA', 'HAART', 'EBV', 'TUR', 'GC', 'DRE', 'TRUSP', 'TURBT', 'UC', 'CIS', 'NPC', 'LVH', 'NSA', 'SPECT', 'PMN', 'BPH', 'SPEP', 'PAP', 'AR', 'MVR', 'IgA', 'MGUS', 'GOT', 'stat', 'IDA', 'HRCT', 'IHC', 'PNA', 'SLE', 'LT', 'LST', 'CI', 'WBRT', 'AMA', 'NSCLC', 'Conj', 'VC', 'PEM', 'LR', 'OBS', 'scope', 'EUS', 'FNA', 'IVC', 'EMG', 'Kcal', 'sl', 'mod', 'DES', 'CTO', 'ASAP', 'C1', 'SRS', 'DOE', 'PP', 'BAL', 'CHOP', 'FDG', 'USA', 'IVIG', 'DMARD', 'EC', 'ILD', 'AIS', 'ADHF', 'IM', 'GN', 'APS', 'MTP', 'CF', 'Cath', 'ATG', 'ESHAP', 'AML', 'NCV', 'Bx', 'RNP', 'ACL', 'ALS', 'SSEP', 'LPH', 'LP', 'CP', 'LUQ', 'ADC', 'TOF', 'MRA', 'CVD', 'MMSE', 'OT', 'VFSS', 'NTG', 'MAT', 'UE', 'PCA', 'MS', 'FM', 'CBF', 'BAO', 'CTP', 'NT', 'UIP', 'NSIP', 'NIH', 'Osm', 'NICU', 'EPO', 'APR', 'wt', 'SUV', 'MAHA', 'AVR', 'EMF', 'ARB', 'CCB', 'SSS', 'HL', 'MVP', 'STD', 'HTLV', 'TAVI', 'TURP', 'URI', 'MPA', 'yr', 'EIA', 'CD', 'TKR', 'DDD', 'VD', 'BPM', 'Tr', 'FISH', 'IVP', 'CLL', 'IR', 'WD', 'CJD', 'CTX', 'VZV', 'ab', 'IGF', 'ASIS', 'DIP', 'COP', 'SIADH', 'LS', 'ITP', 'MM', 'HoTN', 'CCA', 'ECHO', 'PAH', 'DKA', 'MVA', 'DDx', 'TNF', 'HAV', 'ACEI', 'APC', 'CHD', 'PFT', 'LABA', 'SVN', 'CO', 'GFR', 'Ig', 'HC', 'LE', 'AFO', 'LEEP', 'Pap', 'EBRT', 'URS', 'SCD', 'SVT', 'PCIOL', 'albumin', 'bethanechol', 'ceftazidime', 'diphenhydramine', 'dopamine', 'levophed', 'metronidazole', 'allegra', 'celecoxib', 'codeine', 'cyclophosphamide', 'dexamethasone', 'sutent', 'ativan', 'clozapine', 'clozaril', 'ddavp', 'diflucan', 'fluconazole', 'lorazepam', 'maxipime', 'meropenem', 'pitressin', 'rocephin', 'acyclovir', 'augmentin', 'cortef', 'epinephrine', 'flagyl', 'ganciclovir', 'hydrocortisone', 'insulin', 'keppra', 'levofloxacin', 'megace', 'nexium', 'nystatin', 'phenytoin', 'voriconazole', 'combivent', 'diovan', 'fosamax', 'haldol', 'norvasc', 'tetracycline', 'aspirin', 'cordarone', 'coumadin', 'cozaar', 'heparin', 'plavix', 'seroquel', 'atropine', 'ampicillin', 'anidulafungin', 'apresoline', 'baraclude', 'captopril', 'entecavir', 'tigecycline', 'catapres', 'lasix', 'mircera', 'unasyn', 'ultracet', 'lanoxin', 'avodart', 'aldactone', 'allopurinol', 'ethambutol', 'pyrazinamide', 'zithromax', 'cisplatin', 'furosemide', 'inderal', 'januvia', 'propranolol', 'thalidomide', 'valsartan', 'invanz', 'risperdal', 'azithromycin', 'ceftriaxone', 'moxifloxacin', 'tamiflu', 'chlorpromazine', 'estradiol', 'exforge', 'flurazepam', 'meloxicam', 'oxacillin', 'acetaminophen', 'famotidine', 'cubicin', 'tygacil', 'amoxicillin', 'nasonex', 'prednisolone', 'spiriva', 'topamax', 'xyzal', 'methylprednisolone', 'carvedilol', 'fluorescein', 'hydroxychloroquine', 'pantoprazole', 'pce', 'plaquenil', 'xalatan', 'avelox', 'clonidine', 'erythromycin', 'mexitil', 'nimbex', 'precedex', 'xylocaine', 'capecitabine', 'herceptin', 'xeloda', 'clarithromycin', 'indapamide', 'crestor', 'eliquis', 'avastin', 'alprazolam', 'gelfoam', 'lantus', 'lidocaine', 'linezolid', 'zyvox', 'propafenone', 'vfend', 'carboplatin', 'neupro', 'alimta', 'betamethasone', 'claforan', 'propofol', 'tofranil', 'linagliptin', 'alpha', 'brilinta', 'lipitor', 'dobutamine', 'gemzar', 'navelbine', 'paclitaxel', 'paraplatin', 'tarceva', 'taxotere', 'rituximab', 'valtrex', 'amikacin', 'clindamycin', 'enbrel', 'mobic', 'salagen', 'trimethoprim', 'cellcept', 'ismo', 'rapamune', 'sirolimus', 'celebrex', 'dilantin', 'lamivudine', 'ambisome', 'cefuroxime', 'cytotec', 'foscavir', 'prochlorperazine', 'prograf', 'sucralfate', 'tacrolimus', 'vidaza', 'verapamil', 'zoloft', 'ciprofloxacin', 'fdg', 'lapatinib', 'ultravist', 'pitavastatin', 'eraxis', 'cephalexin', 'denosumab', 'extraneal', 'doxycycline', 'oxycontin', 'ambien', 'vasopressin', 'levetiracetam', 'rasburicase', 'zometa', 'iressa', 'minirin', 'naproxen', 'leflunomide', 'erlotinib', 'ofev', 'relenza', 'lyrica', 'rilutek', 'riluzole', 'trileptal', 'adenosine', 'abdomen', 'abdominal', 'abg', 'abnormal', 'abnormality', 'abo', 'abscess', 'accident', 'active', 'activity', 'acute', 'adenocarcinoma', 'adjustment', 'adls', 'adrenal', 'aerogenes', 'after', 'agitated', 'air', 'akin', 'albumin', 'alcohol', 'allergy', 'allodynia', 'alopecia', 'alp', 'also', 'alt', 'ammonia', 'amp', 'anasarca', 'and', 'androgen', 'anicteric', 'anomaly', 'anorexia', 'anosmia', 'antibiotic', 'antibiotics', 'antibody', 'antigen', 'anuria', 'anxiety', 'aorta', 'aortic', 'appearance', 'appetite', 'are', 'areas', 'arthralgia', 'arthroses', 'ascites', 'assessment', 'ast', 'atelectasis', 'atherosclerotic', 'atrophy', 'back', 'bacteremia', 'bacteria', 'bag', 'band', 'base', 'bases', 'baxter', 'bed', 'belching', 'betel', 'bethanechol', 'bifurcation', 'bilateral', 'bile', 'bilirubin', 'biochemistry', 'biopsy', 'bladder', 'blast', 'bleeding', 'blood', 'bmi', 'body', 'bone', 'bones', 'bony', 'borderline', 'bowel', 'brain', 'breath', 'brief', 'bun', 'calcification', 'can', 'cancer', 'cardiovascular', 'care', 'case', 'cast', 'cataracts', 'catheter', 'cavity', 'cbd', 'cefepime', 'cefmetazole', 'ceftazidime', 'central', 'change', 'changes', 'character', 'check', 'chest', 'chief', 'chills', 'chronic', 'cif', 'cigarette', 'classification', 'claudication', 'clear', 'clinical', 'cloudy', 'cluster', 'coarse', 'color', 'command', 'complaint', 'complete', 'complicated', 'congestion', 'conjunctiva', 'consciousness', 'constipation', 'consult', 'contact', 'content', 'contrast', 'control', 'convulsion', 'correct', 'correlation', 'cough', 'cramps', 'cranial', 'critical', 'crystals', 'current', 'cvc', 'cxr', 'cyanosis', 'cyanotic', 'cystoscope', 'day', 'defect', 'definite', 'delusion', 'densities', 'density', 'dental', 'depression', 'deprivation', 'deteriorating', 'device', 'diabetes', 'diagnosed', 'diagnosis', 'diaphoresis', 'diarrhea', 'difficult', 'diffuse', 'digit', 'dilated', 'diphenhydramine', 'diplopia', 'disc', 'discharge', 'disease', 'dislocation', 'distal', 'distention', 'disturbance', 'dizziness', 'dnr', 'dopamine', 'dosage', 'drainage', 'dry', 'duct', 'ducts', 'dysphagia', 'dyspnea', 'dysuria', 'ecchymoses', 'ecchymosis', 'edema', 'effusion', 'egd', 'elevated', 'emergency', 'emphysema', 'empirical', 'enhancement', 'enlarged', 'enterobacter', 'enthesophyte', 'epi', 'epistaxis', 'essential', 'examination', 'excess', 'excluded', 'expansion', 'exposure', 'extremity', 'eye', 'facet', 'factor', 'failure', 'fall', 'family', 'fatigue', 'feeding', 'femur', 'fever', 'field', 'fissures', 'flank', 'flatulence', 'focus', 'foley', 'followup', 'foot', 'for', 'formation', 'fracture', 'free', 'frequency', 'friend', 'full', 'function', 'gait', 'gall', 'gastrointestinal', 'general', 'genitourinary', 'glaucoma', 'glucose', 'goiter', 'grave', 'gross', 'gum', 'gynecological', 'habit', 'hair', 'hallucination', 'hcl', 'hct', 'head', 'headache', 'hearing', 'heart', 'heave', 'heent', 'hematemesis', 'hematuria', 'hemoptysis', 'hemorrhage', 'hiccup', 'hirsutism', 'his', 'history', 'hiv', 'hoarseness', 'hospital', 'hospitalization', 'hpf', 'humulin', 'hunger', 'hydration', 'hypotension', 'ics', 'iii', 'image', 'imaging', 'impaction', 'impairment', 'impalpable', 'impotence', 'incontinence', 'independent', 'indicated', 'indication', 'infection', 'infiltration', 'inguinal', 'initial', 'injected', 'injury', 'insertion', 'insomnia', 'intermittent', 'intolerance', 'intracranial', 'intradiscal', 'intubated', 'isocoric', 'jaundice', 'joint', 'joints', 'ketone', 'kidney', 'kyphoscoliosis', 'laboratory', 'lap', 'left', 'leg', 'leukocytosis', 'levels', 'levophed', 'light', 'limb', 'lis', 'lll', 'lobes', 'longterm', 'loss', 'low', 'lower', 'lpf', 'lumbar', 'lumbosacral', 'lung', 'lying', 'lymph', 'lymphadenopathy', 'malaise', 'manual', 'marginal', 'massive', 'mastoid', 'matter', 'may', 'mch', 'mchc', 'mcv', 'medical', 'medication', 'memory', 'menstruation', 'meq', 'meta', 'metronidazole', 'microscopic', 'mono', 'motion', 'mouth', 'multiple', 'multistix', 'murmurs', 'muscle', 'musculoskeletal', 'myalgia', 'myelo', 'nasal', 'nausea', 'neck', 'negative', 'nephrologist', 'night', 'nil', 'nocturia', 'nocturnal', 'nodes', 'nonreactive', 'nonspecific', 'normal', 'normoactive', 'not', 'nph', 'npo', 'numbness', 'nut', 'nutritional', 'ocular', 'odynophagia', 'oliguria', 'one', 'oral', 'orange', 'order', 'orthopnea', 'osseous', 'osteopenia', 'otalgia', 'otorrhea', 'over', 'pain', 'pale', 'palpitation', 'panic', 'paraaortic', 'paresthesia', 'paroxysmal', 'partial', 'patellar', 'pathology', 'patient', 'pco', 'peak', 'pelvic', 'pelvis', 'periventricular', 'petechiae', 'phenomenon', 'photophobia', 'physical', 'pigtail', 'piperacillin', 'pitting', 'placement', 'plain', 'plaque', 'pleura', 'plt', 'pmi', 'polyuria', 'porta', 'positive', 'ppi', 'presentation', 'probnp', 'process', 'prognosis', 'progression', 'prompt', 'prostate', 'protein', 'pruritus', 'psa', 'psoas', 'psychiatric', 'psychological', 'psychosocial', 'pulmonary', 'pupils', 'purpura', 'pyomyositis', 'pyuria', 'radiography', 'radiologist', 'radiopaque', 'rales', 'rash', 'rbc', 'rebound', 'recovery', 'reflex', 'regions', 'regurgitation', 'related', 'relative', 'renal', 'resident', 'respiratory', 'response', 'resting', 'retention', 'retraction', 'rhabdomyolysis', 'rhinorrhea', 'rhonchi', 'right', 'risk', 'rpr', 'sacroiliac', 'same', 'scan', 'sclera', 'scoliosis', 'score', 'scr', 'screen', 'sediment', 'see', 'seg', 'sepsis', 'septic', 'severe', 'sexual', 'shock', 'simple', 'size', 'skin', 'skull', 'small', 'social', 'soft', 'somnolence', 'sore', 'sound', 'sounds', 'space', 'specific', 'spine', 'spondylosis', 'spur', 'sputum', 'stage', 'stat', 'stationary', 'stiffness', 'still', 'stones', 'stool', 'stream', 'structures', 'study', 'subsegmental', 'suicidality', 'sulci', 'supine', 'support', 'surgical', 'symmetric', 'syncope', 'system', 'systemic', 'tab', 'tarry', 'telangiectasia', 'tenderness', 'tenesmus', 'test', 'tests', 'the', 'therapy', 'thoracic', 'three', 'thrill', 'throat', 'thyroid', 'tinnitus', 'tissue', 'tortuous', 'tract', 'traction', 'transrectal', 'trauma', 'treatment', 'tremor', 'trial', 'troponin', 'turbidity', 'type', 'typing', 'ulcer', 'ulcers', 'uremia', 'uremic', 'urgency', 'urinary', 'urine', 'urobilinogen', 'urologist', 'use', 'vacuum', 'vancomycin', 'vasopressor', 'vault', 'vdrl', 'venous', 'ventilator', 'ventricles', 'vertigo', 'vial', 'view', 'visible', 'vision', 'visual', 'volume', 'wall', 'water', 'wbc', 'weaning', 'weight', 'white', 'whole', 'with', 'without', 'work', 'yeast', 'abp', 'acid', 'acneiform', 'adl', 'aid', 'allegra', 'alveolar', 'angle', 'any', 'apical', 'appropriate', 'aspect', 'audible', 'auscultation', 'basal', 'beat', 'caliber', 'cap', 'cardiomegaly', 'celecoxib', 'chemotherapy', 'close', 'coagulation', 'codeine', 'cold', 'combined', 'compatible', 'component', 'condition', 'conscious', 'consultation', 'corneal', 'costophrenic', 'cpr', 'cyclophosphamide', 'deformity', 'destructive', 'dexamethasone', 'down', 'dysfunction', 'ecmo', 'electric', 'endoxan', 'engorgement', 'enlargement', 'eom', 'epidural', 'excision', 'exertional', 'expansile', 'expressed', 'extension', 'extraosseous', 'extremities', 'facial', 'flat', 'following', 'fossa', 'gag', 'ground', 'heartburn', 'heat', 'herniation', 'hospice', 'ich', 'icu', 'inr', 'interval', 'introduce', 'intubation', 'itching', 'jugular', 'lateral', 'like', 'liver', 'lobe', 'lobectomy', 'mannitol', 'mass', 'masses', 'meglumine', 'melena', 'metabolic', 'metastases', 'metastasis', 'metastatic', 'mets', 'middle', 'midline', 'monitor', 'motor', 'movement', 'mri', 'murmur', 'murphy', 'nerve', 'nervous', 'nodule', 'nodules', 'numbers', 'occipital', 'olfaction', 'origin', 'output', 'palliative', 'palpable', 'parietal', 'part', 'peep', 'percussion', 'peripheral', 'pleural', 'pleuritic', 'plus', 'post', 'posterior', 'productive', 'progressive', 'protocol', 'ptt', 'radiotherapy', 'reactive', 'recent', 'recurrence', 'regular', 'resection', 'resonant', 'rue', 'rul', 'ruq', 'salvage', 'sarcoma', 'scar', 'sensory', 'shift', 'shoulder', 'sign', 'signed', 'significant', 'sodium', 'spleen', 'stable', 'standing', 'status', 'strabismus', 'subfalcine', 'surgery', 'sutent', 'tender', 'thigh', 'thoracoscopic', 'thrush', 'thus', 'tid', 'time', 'tongue', 'tonsillar', 'transferred', 'tumor', 'tumors', 'upper', 'urogenital', 'uvular', 'vat', 'vein', 'verbal', 'vii', 'viii', 'vital', 'vomiting', 'wedge', 'wide', 'xii', 'acidosis', 'acth', 'adjusted', 'adrenaline', 'adventitious', 'airway', 'all', 'amplitude', 'angry', 'anticholinergic', 'anticipation', 'ards', 'arrhythmias', 'art', 'aspirated', 'aspiration', 'ativan', 'atypical', 'autonomic', 'bedside', 'below', 'benzodiazepines', 'best', 'bilaterally', 'boss', 'breathing', 'broad', 'broadcasting', 'bromocriptine', 'bronchi', 'brudzinski', 'bruit', 'butterfly', 'cage', 'cardiac', 'cardinal', 'carotid', 'cause', 'clot', 'clozapine', 'clozaril', 'cohb', 'collapsed', 'coma', 'competent', 'compliance', 'consistent', 'consolidation', 'contour', 'contraction', 'contraindication', 'correction', 'cortisol', 'cpk', 'crackles', 'crp', 'culture', 'cutting', 'cvs', 'daily', 'dantrolene', 'ddavp', 'delusions', 'demand', 'desaturation', 'dialysis', 'diet', 'differential', 'diflucan', 'distribution', 'diuresis', 'dose', 'drug', 'dtr', 'dyscrasias', 'echo', 'echocardiography', 'eeg', 'effect', 'effervescent', 'electrolyte', 'elevation', 'embolism', 'emotional', 'empiric', 'encephalopathy', 'endotracheal', 'episode', 'etiology', 'extrapyramidal', 'finding', 'first', 'floor', 'fluconazole', 'fluctuated', 'fluctuating', 'fluctuation', 'fluid', 'form', 'freely', 'fremitus', 'grade', 'graduated', 'hanging', 'hbsag', 'hemodynamic', 'hepatitis', 'hepatojugular', 'her', 'here', 'high', 'histories', 'hypersalivation', 'hypertension', 'hyperthermia', 'hypocalcemia', 'hypokalemia', 'hypomagnesemia', 'hypothermia', 'hypoxemia', 'hypoxia', 'hypoxic', 'ideation', 'identified', 'imbalance', 'imovane', 'impaired', 'impression', 'inattention', 'informed', 'inhalation', 'inotropic', 'insipidus', 'instability', 'intensive', 'intention', 'involuntary', 'irregular', 'kcl', 'kernig', 'lactic', 'lasting', 'lesion', 'level', 'life', 'limbs', 'little', 'long', 'loose', 'lorazepam', 'lvef', 'major', 'make', 'malignant', 'many', 'material', 'maxipime', 'mcg', 'mechanical', 'medicine', 'meningismus', 'meropenem', 'minutes', 'mobile', 'mode', 'mood', 'morning', 'mother', 'movable', 'mucus', 'myocarditis', 'myoclonus', 'nasogastric', 'neuro', 'neuroleptic', 'neurologist', 'new', 'nms', 'none', 'nosocomial', 'opacity', 'osmolarity', 'outcome', 'overdose', 'oxygenation', 'pancreatitis', 'paralysis', 'paranoid', 'parent', 'pcr', 'pcv', 'pea', 'per', 'persistent', 'pigmentation', 'pink', 'pitressin', 'pneumonia', 'pneumothorax', 'points', 'pressors', 'prn', 'problem', 'protection', 'protective', 'protruded', 'psychiatrist', 'psychiatry', 'puffy', 'pupil', 'rapid', 'reference', 'reflux', 'refractory', 'regimen', 'repeat', 'replacement', 'responsive', 'resuscitation', 'rigidity', 'rocephin', 'room', 'schedule', 'schizophrenia', 'screening', 'sedation', 'seizure', 'seizures', 'setting', 'side', 'signs', 'slow', 'specialist', 'spectrum', 'spontaneous', 'stabilized', 'starting', 'stay', 'stem', 'stress', 'stridor', 'structural', 'sudden', 'suicide', 'superficial', 'supportive', 'survey', 'symptoms', 'syndrome', 'tablet', 'tapered', 'targocid', 'teicoplanin', 'television', 'temperature', 'tenacious', 'tendon', 'terminal', 'text', 'through', 'tidal', 'titrate', 'torsade', 'torsades', 'toxic', 'toxicologist', 'toxidrome', 'toxin', 'trigger', 'trivial', 'try', 'tube', 'umbilicus', 'vaginal', 'vegetative', 'ventilation', 'very', 'vocal', 'vomitus', 'watery', 'where', 'withdrawal', 'wound', 'wrist', 'yellow', 'abnormalities', 'above', 'acyclovir', 'adherent', 'administered', 'adnexa', 'aed', 'aerobic', 'afebrile', 'agent', 'aggregated', 'ago', 'albicans', 'alkalosis', 'anaerobic', 'anemia', 'antifungal', 'apnea', 'apparent', 'appendix', 'area', 'aspergillosis', 'aspergillus', 'assay', 'associated', 'asymptomatic', 'augmentin', 'axilla', 'bloc', 'bloody', 'breast', 'calcified', 'candida', 'candidiasis', 'cbc', 'cecum', 'cell', 'cells', 'cervical', 'chain', 'challenge', 'chewing', 'chromosome', 'clavicle', 'clostridium', 'clotting', 'cmv', 'cns', 'coagulase', 'cocci', 'colitis', 'colon', 'colored', 'consumption', 'continued', 'continuous', 'controlled', 'cooling', 'core', 'corrected', 'cortef', 'cortisone', 'cost', 'count', 'course', 'cover', 'cryoprecipitate', 'crystal', 'csf', 'cutaneous', 'cvp', 'cystic', 'cysts', 'cytology', 'cytometry', 'daptomycin', 'dark', 'data', 'deep', 'defecation', 'defervescence', 'dependent', 'dic', 'difficile', 'diluted', 'disseminated', 'dna', 'draw', 'duodenal', 'duodenum', 'ekg', 'elastic', 'enhanced', 'enlarging', 'ent', 'enterocolitis', 'epilepticus', 'epinephrine', 'epithelial', 'erythematous', 'esr', 'esterase', 'excisional', 'excretion', 'expectorated', 'extensive', 'external', 'factors', 'fat', 'fatty', 'fdp', 'female', 'fibrinogen', 'fibrotic', 'filgrastim', 'final', 'flagyl', 'flora', 'flow', 'focal', 'foramen', 'four', 'frank', 'frequent', 'fungal', 'fungus', 'gain', 'gallbladder', 'ganciclovir', 'gas', 'gaster', 'gaze', 'ggt', 'glands', 'glycemic', 'gram', 'hand', 'hard', 'hbeag', 'hema', 'hematological', 'hemogram', 'hemolysis', 'hepatic', 'highly', 'hilar', 'hla', 'hollow', 'hsv', 'hydrocortisone', 'hyperdense', 'hyperglycemia', 'hypoactive', 'hypodense', 'hypofibrinogenemia', 'hypovolemic', 'ice', 'ictal', 'iliac', 'illness', 'images', 'immediate', 'implantation', 'impressed', 'induction', 'infusion', 'injection', 'insufficiency', 'insulin', 'intake', 'internal', 'intraabdominal', 'intrathecal', 'intravascular', 'invasive', 'involvement', 'ion', 'keppra', 'key', 'kidneys', 'ldh', 'legs', 'leukemia', 'leukemic', 'leukoreduction', 'levofloxacin', 'line', 'lineage', 'load', 'loading', 'local', 'lop', 'lul', 'lymphoblastic', 'lymphocyte', 'lymphocytes', 'lymphoid', 'lymphoma', 'lymphomas', 'lysis', 'magnesium', 'marrow', 'max', 'maxillary', 'mediastinum', 'medium', 'megace', 'meningeal', 'mesenteric', 'mic', 'minimal', 'mirabilis', 'mixed', 'monday', 'morphologic', 'mrd', 'mtx', 'needle', 'neg', 'neoplastic', 'neutropenia', 'neutropenic', 'nexium', 'nodular', 'nystatin', 'occult', 'old', 'organ', 'pancreas', 'pancytopenic', 'paranasal', 'pattern', 'pericardial', 'peritoneal', 'pharmacist', 'pharyngeal', 'phenytoin', 'platelet', 'pmns', 'port', 'potassium', 'potential', 'power', 'present', 'pressure', 'prior', 'profile', 'prolonged', 'prominent', 'proteus', 'pseudomembranous', 'pump', 'puncture', 'radiograph', 'random', 'rapidly', 'ray', 'read', 'record', 'recurrent', 'region', 'relapse', 'remission', 'removal', 'residual', 'resistant', 'rhinitis', 'rhodotorula', 'rll', 'rml', 'rods', 'root', 'round', 'rupture', 'scattered', 'sharp', 'short', 'sinus', 'sinuses', 'sinusitis', 'site', 'smear', 'solu', 'solucortef', 'solution', 'sonogram', 'sonography', 'species', 'specimen', 'splenomegaly', 'spots', 'staphylococci', 'steady', 'steroid', 'stimulation', 'stone', 'stop', 'strain', 'strong', 'subaxillary', 'subclavicular', 'submucosal', 'sugar', 'suggestion', 'supraclavicular', 'swab', 'swelling', 'tachycardia', 'tachypnea', 'term', 'thoracolumbar', 'thrombocytopenia', 'tissues', 'titer', 'titration', 'tonic', 'tpn', 'trace', 'transfusion', 'twitching', 'typhlitis', 'unexplained', 'urinalysis', 'uterus', 'valve', 'vessels', 'viral', 'viremia', 'voriconazole', 'vre', 'ward', 'well', 'who', 'wing', 'winslow', 'zone', 'animal', 'atrovent', 'bite', 'bricanyl', 'bruising', 'burning', 'cataract', 'clinic', 'clubbing', 'combivent', 'compression', 'confluent', 'congestive', 'consecutive', 'crepitus', 'degenerative', 'dementia', 'depigmentation', 'diovan', 'discharged', 'doctor', 'double', 'drinking', 'dullness', 'dysphasia', 'ear', 'ears', 'end', 'endocrine', 'endoscopic', 'esophagogastroduodenoscopy', 'esrd', 'eyes', 'finger', 'folic', 'food', 'fosamax', 'gastrostomy', 'gel', 'genital', 'gerd', 'haldol', 'hear', 'hematologic', 'hemodialysis', 'hospitalized', 'hypercalcemia', 'hyperkalemia', 'hyperpotassemia', 'inh', 'insect', 'irritable', 'lactulose', 'limitation', 'liquid', 'mandible', 'mellitus', 'nail', 'nephrology', 'nervousness', 'neurologic', 'neurology', 'norvasc', 'nose', 'nurse', 'operation', 'orientation', 'osteonecrosis', 'osteoporosis', 'painful', 'palpation', 'peg', 'percutaneous', 'perihilar', 'pigeon', 'place', 'polyphagia', 'practitioner', 'procedure', 'pta', 'red', 'shifting', 'sleeping', 'soln', 'stools', 'sweating', 'symmetrical', 'teeth', 'temporary', 'tetracycline', 'tingling', 'trunk', 'ugi', 'vascular', 'vitamin', 'abi', 'ablation', 'aeruginosa', 'america', 'angioplasty', 'anticoagulant', 'apex', 'arm', 'artery', 'aspirin', 'ata', 'atrial', 'attached', 'avf', 'betaloc', 'big', 'bronchial', 'calf', 'cardiogenic', 'caries', 'cath', 'cellulitis', 'cerebrovascular', 'chamber', 'conservative', 'cordarone', 'coronary', 'correlated', 'cortical', 'coumadin', 'cozaar', 'cva', 'dehydration', 'dermatologist', 'dilatation', 'dressing', 'drop', 'dropping', 'duplex', 'dvt', 'dysarthria', 'edematous', 'erythema', 'extraction', 'femoral', 'ferritin', 'fibrillation', 'flutter', 'folate', 'forearm', 'gangrene', 'gastric', 'gastritis', 'glu', 'got', 'growth', 'hemiparesis', 'heparin', 'hormone', 'hormones', 'hyperpigmentation', 'hypothyroidism', 'impulse', 'intercostal', 'interstitial', 'iodine', 'ipth', 'iron', 'ischemia', 'maximal', 'member', 'mid', 'much', 'muscles', 'muscular', 'nearest', 'nipple', 'node', 'obturator', 'occasional', 'out', 'pacemaker', 'pad', 'pantoloc', 'permcath', 'peroneal', 'plastic', 'plavix', 'point', 'polydipsia', 'popliteal', 'position', 'ppm', 'pus', 'radiofrequency', 'retic', 'revascularization', 'septum', 'seroquel', 'similar', 'stenosis', 'stroke', 'subclavian', 'surgeon', 'swallowing', 'tbi', 'thallium', 'thrombosis', 'tibc', 'toe', 'toes', 'total', 'transluminal', 'two', 'used', 'via', 'weeks', 'arrest', 'atherosclerosis', 'atropine', 'baseline', 'bedridden', 'bedsore', 'characteristic', 'circulation', 'crackle', 'crust', 'daughter', 'dawn', 'differentiation', 'diuretics', 'emt', 'fast', 'fields', 'infiltrate', 'influenzae', 'inotrope', 'ischemic', 'lot', 'milk', 'obstruction', 'osteopenic', 'presenile', 'returning', 'shadow', 'stain', 'stent', 'stenting', 'therapeutic', 'ulceration', 'ventriculomegaly', 'vessel', 'adequate', 'ambulation', 'axillary', 'carcinoma', 'disability', 'dissection', 'distension', 'ductal', 'epigastralgia', 'film', 'hip', 'intervention', 'intraductal', 'invasion', 'ischium', 'labeled', 'lines', 'malignancy', 'mastectomy', 'micrometastatic', 'migraine', 'osteolytic', 'osteophyte', 'patchy', 'pathological', 'radiolucent', 'rib', 'ribs', 'sacrum', 'sentinel', 'spinous', 'subtrochanteric', 'thr', 'vertebral', 'afp', 'aggressive', 'amiodarone', 'ampicillin', 'angiography', 'anidulafungin', 'apresoline', 'arterial', 'bacillus', 'balance', 'baraclude', 'bibasilar', 'brachial', 'bronchiectasis', 'brown', 'cannula', 'captopril', 'catheterization', 'celsius', 'chemoembolization', 'child', 'cholecystectomy', 'cirrhosis', 'coccus', 'curve', 'cyst', 'decompensation', 'decompression', 'decubitus', 'degree', 'delirium', 'deteriorated', 'diameter', 'diaphragm', 'differentiated', 'disorientation', 'distance', 'doppler', 'dorsalis', 'douglas', 'drain', 'dull', 'ecg', 'effects', 'emergent', 'empyema', 'engorged', 'entecavir', 'enterococcus', 'enzymes', 'equivocal', 'exploratory', 'ext', 'extended', 'faecium', 'faint', 'fecal', 'fentanyl', 'flexure', 'gallinarum', 'hemicolectomy', 'hemodynamics', 'hepatectomy', 'hepatocellular', 'hepatoma', 'hrs', 'hyperbilirubinemia', 'hypernatremia', 'hypertensive', 'hypoalbuminemia', 'hypoechoic', 'icteric', 'ileostomy', 'ileus', 'indicate', 'inflammation', 'interlobular', 'intestine', 'irrigation', 'june', 'kub', 'laparotomy', 'lft', 'likelihood', 'linear', 'localization', 'loops', 'mask', 'materia', 'medial', 'microwave', 'necrosis', 'necrotic', 'non', 'noncontrast', 'occlusive', 'oct', 'open', 'paracentesis', 'patent', 'pathogen', 'pedis', 'perforation', 'peritonitis', 'phasic', 'pneumoperitoneum', 'pockets', 'pouch', 'pseudomonas', 'psv', 'psvt', 'pulsation', 'quadrant', 'quinolone', 'radial', 'radiolucency', 'rate', 'remnant', 'repair', 'respirator', 'rfa', 'rubber', 'ruber', 'rule', 'saline', 'scm', 'second', 'segment', 'sep', 'serial', 'series', 'serum', 'show', 'signal', 'stricture', 'subcutaneous', 'subphrenic', 'surface', 'tace', 'thoracentesis', 'tigecycline', 'transarterial', 'trihydrate', 'tropicalis', 'turbid', 'urethral', 'vasculature', 'ventricular', 'adalat', 'arteries', 'azotemia', 'benign', 'cad', 'callus', 'catapres', 'chart', 'cognitive', 'concensus', 'confused', 'creatinine', 'deficit', 'dynamic', 'ferrum', 'fixation', 'greater', 'hyperactive', 'hyperparathyroidism', 'hyperphosphatemia', 'hyperplasia', 'intertrochanteric', 'intrinsic', 'lag', 'lasix', 'late', 'male', 'meal', 'mircera', 'name', 'nephropathy', 'nesp', 'oros', 'pansystolic', 'phleboliths', 'physician', 'plaques', 'prescription', 'proximal', 'pulse', 'scanty', 'screw', 'secondary', 'senile', 'tendinosis', 'trochanter', 'unasyn', 'valvular', 'anterolateral', 'applied', 'basaloid', 'buccal', 'cardiopulmonary', 'chinese', 'collapse', 'collar', 'comatose', 'cream', 'duration', 'expectoration', 'expiratory', 'flap', 'gingival', 'hypothermic', 'iva', 'mandibulectomy', 'maxillectomy', 'neoplasm', 'nursing', 'onset', 'oropharyngeal', 'return', 'rush', 'segmental', 'sheet', 'squamous', 'submental', 'suffocation', 'tonsil', 'tracheostomy', 'ultracet', 'uti', 'abbott', 'allergies', 'antihypertensives', 'cardiology', 'cerebellum', 'class', 'collaterals', 'correctable', 'death', 'diseases', 'extubation', 'fatal', 'health', 'heparinization', 'hydrocephalus', 'hypodensity', 'hypoperfusion', 'infarction', 'inferior', 'killip', 'lad', 'laterality', 'leads', 'lipid', 'main', 'microdiskectomy', 'myocardial', 'obstructive', 'occlusion', 'ostium', 'pci', 'pda', 'ppd', 'prescribe', 'primary', 'proper', 'prophylaxis', 'punctate', 'rca', 'source', 'state', 'statins', 'unarousable', 'unit', 'vpc', 'walking', 'ade', 'administer', 'anal', 'anaphylactic', 'bacilli', 'border', 'bronchus', 'ches', 'common', 'communicating', 'communication', 'comparison', 'conjunctivae', 'diagnostic', 'exudative', 'guide', 'hematology', 'hemithorax', 'hemothorax', 'hilum', 'hot', 'iiia', 'immunohistochemical', 'information', 'intense', 'involving', 'ipsilateral', 'keto', 'ketorolac', 'lactorrhea', 'lanoxin', 'maintenance', 'mediastinal', 'metallic', 'operative', 'organism', 'paratracheal', 'pericardium', 'pet', 'pleomorphic', 'pneumonectomy', 'postoperative', 'rare', 'relieve', 'sarcomatoid', 'scopy', 'sensation', 'shared', 'spindle', 'sternal', 'sternotomy', 'sternum', 'sub', 'subcarinal', 'thoracocentesis', 'thoracotomy', 'tibial', 'too', 'tromethamine', 'urolithiasis', 'vimentin', 'visceral', 'wire', 'wiring', 'attenuation', 'avodart', 'bipap', 'cardioversion', 'copd', 'determined', 'disposition', 'flaccid', 'frontal', 'gold', 'heard', 'heavy', 'hematoma', 'hypercapnic', 'hypertrophy', 'large', 'lie', 'phyllocontin', 'prostatic', 'puff', 'rbbb', 'rhythm', 'scalp', 'seretide', 'somnolent', 'step', 'supraventricular', 'toilet', 'uro', 'acquired', 'aldactone', 'allopurinol', 'automatic', 'balloon', 'bpm', 'bradycardia', 'bypass', 'cabg', 'coffee', 'debridement', 'defibrillator', 'dorsum', 'ethambutol', 'flare', 'fusion', 'gastroesophageal', 'generalized', 'graft', 'grafting', 'hbv', 'hepatorenal', 'hepatotoxic', 'icd', 'icterus', 'ihd', 'implantable', 'inactive', 'induced', 'intracardial', 'knee', 'nephrotoxic', 'nov', 'osteoarthritis', 'outpatient', 'ovoid', 'pen', 'pyrazinamide', 'railroad', 'regeneration', 'restenosis', 'symptomatic', 'terlipressin', 'track', 'tuberculosis', 'adrenals', 'allogeneic', 'amniotic', 'anti', 'antrum', 'bacteriuria', 'bronchiolitis', 'centrilobular', 'chlamydia', 'collecting', 'corticosteroid', 'crest', 'cycle', 'cystitis', 'cystoscopy', 'dermatitis', 'development', 'distress', 'dysplasia', 'entry', 'erosion', 'erythroid', 'esophageal', 'esophagitis', 'extubate', 'fanconi', 'fibrosis', 'fixed', 'foci', 'fvc', 'gastroenteritis', 'gentamycin', 'glass', 'group', 'gvhd', 'helicobacter', 'hemorrhagic', 'hydronephrosis', 'hypercapnia', 'hypocellular', 'immature', 'immunology', 'incision', 'inhaled', 'leukopenia', 'macrolides', 'mds', 'megakaryocytes', 'membrane', 'microabscess', 'minor', 'myelodysplastic', 'myeloid', 'obliterans', 'occupational', 'oncology', 'orifice', 'penicillin', 'pip', 'proliferation', 'relaxin', 'respiration', 'staff', 'tazobactam', 'transplant', 'transplantation', 'transurethral', 'ureter', 'ureteral', 'vaccination', 'zithromax', 'able', 'amaryl', 'ammonium', 'analysis', 'angiographic', 'anterior', 'antitussives', 'bacterial', 'bcaa', 'carrier', 'cephalization', 'checkup', 'cirrhotic', 'cisplatin', 'clinimix', 'compartment', 'courses', 'delayed', 'delirious', 'devascularization', 'donor', 'drowsy', 'ecog', 'enema', 'erosive', 'extend', 'feb', 'febrile', 'feeling', 'fifth', 'fleet', 'flush', 'fundus', 'furosemide', 'hands', 'hematochezia', 'hemorrhoid', 'herbal', 'hydrocele', 'hydroceles', 'hypersensitivity', 'hypervascular', 'hypervolemic', 'hypointense', 'hyponatremia', 'inderal', 'infiltrative', 'inhibitor', 'iso', 'itch', 'januvia', 'karnofsky', 'let', 'ligation', 'lobar', 'lock', 'modified', 'mucosa', 'myelosuppression', 'noon', 'nutrition', 'oxaliplatin', 'panendoscopy', 'papules', 'passage', 'performance', 'perfusion', 'pes', 'phase', 'pill', 'portal', 'propranolol', 'ratio', 'rcs', 'rebleeding', 'reduced', 'referred', 'relief', 'restriction', 'rft', 'scrotal', 'self', 'shunt', 'single', 'sleep', 'sleepy', 'somatostatin', 'staging', 'stairs', 'stomach', 'super', 'superior', 'tamponade', 'thalidomide', 'thrombus', 'training', 'urokinase', 'valsartan', 'variceal', 'varices', 'viable', 'voiding', 'watch', 'abrasion', 'absent', 'adjust', 'altered', 'amy', 'amylase', 'ankle', 'ans', 'antipsychotic', 'autoimmune', 'behavior', 'bronchogram', 'burkholderia', 'canula', 'caregiver', 'cepacia', 'chlamydiae', 'choking', 'complex', 'congenital', 'dextrose', 'digestion', 'disorders', 'drowsiness', 'dulcolax', 'early', 'eps', 'ertapenem', 'extubated', 'gradient', 'half', 'hila', 'hyperuricemia', 'igm', 'ileum', 'induce', 'infundibular', 'insert', 'invanz', 'jejunum', 'laser', 'legionella', 'lipase', 'maltophilia', 'mbp', 'mental', 'midodrine', 'mrsa', 'mycoplasma', 'nystagmus', 'patch', 'peritoneum', 'pinpoint', 'pneumoniae', 'pneumonic', 'polyp', 'preparation', 'psychosis', 'pulmonic', 'refeeding', 'reintubation', 'retinopathy', 'rigid', 'risperdal', 'schizophrenic', 'school', 'scratch', 'secretion', 'sedative', 'septal', 'set', 'smooth', 'solumedrol', 'speech', 'sperm', 'stenotrophomonas', 'stupor', 'substance', 'suppository', 'switch', 'transfer', 'transient', 'traumatic', 'walk', 'waxy', 'wheeze', 'yrs', 'zydis', 'zyprexa', 'ache', 'babinski', 'biatrial', 'biceps', 'brachioradialis', 'car', 'clonus', 'cuff', 'degrees', 'dorsiflexion', 'fractured', 'glossitis', 'guard', 'heterogeneous', 'hoffman', 'incontinent', 'intracerebral', 'intraventricular', 'jerk', 'leak', 'limit', 'masseter', 'neural', 'objective', 'pnd', 'saturation', 'sister', 'subarachnoid', 'subdural', 'subjective', 'temporal', 'trachea', 'triceps', 'uncal', 'ventricle', 'acs', 'activities', 'age', 'attack', 'autoregulation', 'azithromycin', 'background', 'bicarbonate', 'bulb', 'calcium', 'called', 'calves', 'cdc', 'ceftriaxone', 'circumflex', 'cpap', 'dermopathy', 'deterioration', 'esophagus', 'families', 'flu', 'foreign', 'global', 'gluconate', 'gray', 'hyperlipidemia', 'hypokinesia', 'influenza', 'interpretation', 'lethargy', 'moxifloxacin', 'normocytic', 'parameter', 'presenting', 'pulseless', 'resolution', 'simv', 'tamiflu', 'thought', 'tooth', 'waveform', 'acuity', 'ataxia', 'avl', 'beats', 'bipolar', 'bread', 'cardiologist', 'cdi', 'chlorpromazine', 'confusion', 'contamination', 'desmopressin', 'director', 'disorder', 'drinker', 'eating', 'electrical', 'ems', 'epitrochlear', 'estradiol', 'exforge', 'flurazepam', 'heimlich', 'hypoxemic', 'lactate', 'lead', 'lip', 'lithium', 'lugdunensis', 'maneuver', 'markings', 'measure', 'meloxicam', 'metoprolol', 'norepinephrine', 'oxacillin', 'quetiapine', 'regional', 'sensitive', 'staphylococcus', 'style', 'surrogate', 'systolic', 'thiamine', 'triage', 'acetaminophen', 'acetylcysteine', 'administering', 'against', 'aphasia', 'bisacodyl', 'bronchoscope', 'chrono', 'compound', 'conduct', 'craniotomy', 'dextromethorphan', 'expired', 'famotidine', 'frozen', 'glycyrrhiza', 'hbr', 'hepar', 'impressions', 'mixture', 'mucicarmine', 'mucolytic', 'mucosal', 'opium', 'oxide', 'pack', 'parasternal', 'parenchymal', 'pathologic', 'perifocal', 'pneumomediastinum', 'pneumonitis', 'procaterol', 'prone', 'ration', 'resistance', 'rim', 'sennoside', 'suction', 'svc', 'transbronchial', 'valproate', 'valproic', 'vascularity', 'aad', 'abcess', 'afs', 'brow', 'clonic', 'colimycin', 'colistin', 'colloid', 'coloscopy', 'colostomy', 'crs', 'cubicin', 'dietitian', 'diverticulitis', 'dysregulation', 'emphysematous', 'endoscopy', 'fore', 'gnc', 'gpt', 'hypo', 'imipenem', 'inadequate', 'incomplete', 'intra', 'ivd', 'ivp', 'kyphosis', 'minute', 'mitral', 'morphine', 'mortality', 'mushy', 'oxygen', 'parapneumonic', 'parkinsonian', 'parkinsonism', 'pathologist', 'persisting', 'pleurocentesis', 'proton', 'reaction', 'rectum', 'scc', 'sigmoid', 'situation', 'sob', 'stoma', 'straw', 'subpleural', 'touch', 'tracheal', 'transudate', 'tygacil', 'value', 'ventilatory', 'yield', 'amoxicillin', 'antiepileptic', 'aqueous', 'block', 'bronchoscopy', 'cat', 'cel', 'completed', 'descending', 'egfr', 'exacerbated', 'exacerbation', 'extensor', 'face', 'feet', 'flexion', 'flexor', 'glycerol', 'hemisphere', 'histologic', 'ica', 'imbalanced', 'intern', 'march', 'mutation', 'nap', 'nasonex', 'plantar', 'prednisolone', 'proof', 'radical', 'romberg', 'salivary', 'spines', 'spiriva', 'spray', 'stimuli', 'strength', 'topamax', 'vas', 'vasopressors', 'xyzal', 'addition', 'amputation', 'cerebral', 'cholecystitis', 'coagulopathy', 'debris', 'gauze', 'heal', 'hemiparalysis', 'hemovac', 'multifocal', 'opacification', 'parenchyma', 'rectal', 'sampling', 'sequestrectomy', 'streptococci', 'suture', 'viridans', 'wet', 'acinetobacter', 'bird', 'bronchodilator', 'complicating', 'demonstrated', 'developing', 'gen', 'idiopathic', 'infectious', 'ipf', 'knob', 'methylprednisolone', 'mucoid', 'nsr', 'panel', 'prokinetic', 'purulent', 'teacher', 'warm', 'ana', 'angiogram', 'branch', 'carvedilol', 'cava', 'centromere', 'chf', 'cholangitis', 'cytoplasmic', 'drops', 'dyslipidemia', 'dysmetria', 'electrocardiogram', 'fluorescein', 'gtt', 'hemiplegia', 'hydroxychloroquine', 'igg', 'lee', 'lumen', 'nitrate', 'novonorm', 'nyha', 'pantoprazole', 'pce', 'plaquenil', 'pons', 'quality', 'sacral', 'shown', 'spirit', 'sterile', 'tip', 'tracheobronchial', 'vena', 'virus', 'xalatan', 'afib', 'analgesic', 'aneurysm', 'antiarrhythmia', 'antiarrhythmic', 'antimicrobial', 'antithyroid', 'arrhythmia', 'ascending', 'asprin', 'avelox', 'bias', 'bridging', 'carbimazole', 'clamp', 'clonidine', 'community', 'complication', 'consulting', 'cst', 'decline', 'declined', 'decompensated', 'diagnoses', 'digitalis', 'digoxin', 'dropped', 'endocrinologist', 'enzyme', 'erythromycin', 'esp', 'exacerbating', 'exchanger', 'excluding', 'hcv', 'hit', 'hyperthyroid', 'hyperthyroidism', 'hypomagnesia', 'immune', 'inappropriate', 'laxative', 'leader', 'leaflet', 'mexitil', 'nimbex', 'organic', 'pneumobilia', 'precedex', 'prolapse', 'radiology', 'receptor', 'remittent', 'rest', 'rna', 'storm', 'subclinical', 'tbii', 'toxicity', 'tricuspid', 'tsh', 'wild', 'xylocaine', 'aptt', 'arrow', 'asthenia', 'biliary', 'capecitabine', 'cardiophrenic', 'cea', 'concept', 'echogenic', 'fungating', 'gland', 'healed', 'herceptin', 'herpes', 'intestinal', 'introduced', 'lingular', 'luminal', 'moderately', 'mucositis', 'near', 'number', 'pancreatic', 'paraneoplastic', 'perigastric', 'resectable', 'satiety', 'sma', 'transhepatic', 'transmural', 'xeloda', 'zoster', 'ami', 'asystole', 'avr', 'ccu', 'dinner', 'epilepsy', 'obese', 'rewarm', 'rewarming', 'sheath', 'triple', 'wean', 'window', 'acc', 'aeromonas', 'anechoic', 'annular', 'asymmetric', 'atrium', 'caviae', 'cholangiocarcinoma', 'dense', 'diam', 'dimension', 'echotexture', 'ercp', 'filling', 'hemobilia', 'hernia', 'hyperechoic', 'intrahepatic', 'intraperitoneal', 'isolation', 'kinking', 'lvad', 'lvas', 'masked', 'med', 'myxomatous', 'national', 'opening', 'pacing', 'pediatric', 'protrusion', 'sac', 'slope', 'tail', 'vel', 'velocity', 'ambulance', 'anus', 'atrophic', 'clarithromycin', 'colonoscope', 'cta', 'diverticulosis', 'extravasation', 'gallop', 'indapamide', 'junction', 'laminectomy', 'laparoscopic', 'nephrectomy', 'ossification', 'plasmanate', 'pyelonephritis', 'resonance', 'transverse', 'ventolin', 'adenoma', 'arteriovenous', 'articular', 'association', 'attitude', 'bms', 'counterpulsation', 'diabetic', 'ejection', 'electrocardiography', 'ergometer', 'fibrovascular', 'fistula', 'hyperammonemia', 'iabp', 'metal', 'midclavicular', 'motility', 'nephrolithiasis', 'patellofemoral', 'pretibial', 'proliferative', 'resolving', 'sclerosis', 'sequela', 'slipped', 'subchondral', 'subcostal', 'surfaces', 'tee', 'version', 'villous', 'vitreous', 'york', 'alternating', 'bradykinesia', 'bulk', 'cellular', 'cervicitis', 'cistern', 'closing', 'conduction', 'conjugate', 'convexity', 'craniectomy', 'crestor', 'deviation', 'expression', 'extraocular', 'fasciculation', 'fasciculations', 'folds', 'forehead', 'genu', 'glandular', 'icp', 'intramural', 'language', 'leiomyoma', 'mastication', 'mca', 'microcalcification', 'movements', 'nasolabial', 'nerves', 'neuron', 'palatal', 'parakeratosis', 'perception', 'powder', 'proprioception', 'range', 'reading', 'repetition', 'spaces', 'suprasellar', 'sylvian', 'symmetry', 'taste', 'tone', 'trapezius', 'uvula', 'vestibular', 'vibration', 'visiting', 'writing', 'adjuvant', 'avastin', 'basic', 'bis', 'call', 'eltroxin', 'gene', 'housewife', 'lymphangioma', 'marker', 'myoma', 'nonenhancing', 'reduce', 'tag', 'technician', 'thyroidectomy', 'uroseptic', 'uterine', 'aca', 'approach', 'canalized', 'circle', 'collateral', 'diffusion', 'heterogenous', 'intraaxial', 'palsy', 'ser', 'sterilization', 'aaa', 'access', 'administration', 'alprazolam', 'ambient', 'amps', 'arf', 'arthritis', 'bleeder', 'bottle', 'candidemia', 'children', 'consensus', 'digestive', 'diphenidol', 'diuretic', 'dying', 'echogram', 'effective', 'embolization', 'empty', 'endophthalmitis', 'endoscope', 'enteral', 'fena', 'fine', 'fully', 'fungemia', 'gap', 'gastrectomy', 'gastroenterologist', 'gelfoam', 'gouty', 'healing', 'hemoglobin', 'hemostasis', 'hominis', 'hyperemic', 'immunity', 'infarct', 'infrarenal', 'intercurrent', 'issue', 'ivf', 'lantus', 'lidocaine', 'linezolid', 'mind', 'natural', 'ophthalmologist', 'optimal', 'particles', 'paucimobilis', 'permanent', 'profuse', 'pseudoaneurysm', 'psychologist', 'ralstonia', 'reducing', 'sensitivity', 'signing', 'slowly', 'soda', 'sphingomonas', 'svg', 'third', 'translocation', 'vegetation', 'weekend', 'zyvox', 'antibacterial', 'blind', 'blot', 'cornea', 'cortex', 'cryptococcal', 'ebv', 'elbow', 'elisa', 'encephalitis', 'evolution', 'fissure', 'grasp', 'gyral', 'haart', 'healthy', 'hypersomnia', 'idu', 'intravenous', 'meningoencephalitis', 'modality', 'monogamous', 'multi', 'plegia', 'ptosis', 'radiologic', 'registered', 'responses', 'sludge', 'spasticity', 'stiff', 'subacute', 'subcortical', 'syphilis', 'toxoplasma', 'wasting', 'western', 'acetabular', 'acetabulum', 'bands', 'chloride', 'cis', 'cohesive', 'cystoscopic', 'diffused', 'dre', 'entire', 'hardness', 'hemidiaphragm', 'indicating', 'irregularity', 'ischial', 'lesser', 'mci', 'mdp', 'methylene', 'nuclear', 'osteosclerotic', 'papillary', 'pole', 'scanning', 'sclerotic', 'situ', 'skeleton', 'specificity', 'sulfate', 'ureters', 'urothelial', 'verumontanum', 'chemoradiotherapy', 'eca', 'glossectomy', 'height', 'iib', 'lean', 'magnetic', 'mastoiditis', 'nasopharyngeal', 'nasopharynx', 'obscure', 'oropharynx', 'pharynx', 'prosthesis', 'sublingual', 'submandibular', 'supraomohyoid', 'waters', 'absence', 'brainstem', 'diaper', 'dyskinesia', 'endo', 'expected', 'ganglion', 'herb', 'lacunes', 'lvh', 'orthostatic', 'physiologic', 'presyncope', 'spect', 'subtotal', 'survival', 'tonsils', 'aggregate', 'appendectomy', 'artifact', 'asp', 'balanced', 'bigeminy', 'bilevel', 'bronchitis', 'bronchodilators', 'cachexia', 'carbapenem', 'cavitation', 'citrobacter', 'clearer', 'cloacae', 'combination', 'components', 'coombs', 'cryptococcus', 'direct', 'elective', 'electrophoresis', 'epidermidis', 'event', 'gamma', 'gammopathy', 'granulation', 'hbs', 'hematologist', 'hematopoietic', 'higher', 'hrct', 'hypocellularity', 'iga', 'interaction', 'kappa', 'koseri', 'lambda', 'monoclonal', 'necrotizing', 'paraprotein', 'parental', 'pmn', 'propafenone', 'proteins', 'reticulocyte', 'reverse', 'rotation', 'significance', 'spinal', 'spot', 'target', 'uric', 'vfend', 'washing', 'aureus', 'bandemia', 'buttock', 'coli', 'concentrate', 'deformed', 'elder', 'encephalomalacia', 'ending', 'erythematosus', 'escherichia', 'fasciitis', 'initiation', 'lst', 'lupus', 'rheumatologist', 'sle', 'uropathy', 'urosepsis', 'arrested', 'carboplatin', 'chemo', 'conjunctivitis', 'edentulous', 'hyperkeratosis', 'isoelectric', 'klebsiella', 'ridge', 'canada', 'ganglia', 'neupro', 'ortho', 'transdermal', 'wheel', 'aci', 'adeno', 'alimta', 'alleviation', 'ama', 'anemic', 'aspirate', 'asthma', 'baumannii', 'betamethasone', 'burn', 'capsule', 'caput', 'carcinomatosis', 'chryseobacterium', 'diaphragmatic', 'disinfection', 'ebus', 'exon', 'exophthalmus', 'extreme', 'friction', 'functioned', 'guidance', 'hmb', 'hybrid', 'hypodensities', 'hysterectomy', 'implanted', 'indologenes', 'insula', 'insular', 'interrupted', 'itchiness', 'leptomeningeal', 'localized', 'malposition', 'mammography', 'medusa', 'meningitis', 'midbrain', 'moon', 'mycobacterium', 'neuropathy', 'nsclc', 'obesity', 'omentum', 'packed', 'paradoxical', 'phrenic', 'piece', 'pointing', 'prepared', 'rehab', 'sal', 'salmonella', 'salt', 'scaphoid', 'shigella', 'striae', 'technique', 'thalamus', 'tympanic', 'ventriculoperitoneal', 'vermis', 'anastomosis', 'antegrade', 'antral', 'arthroplasty', 'blocker', 'carpometacarpal', 'cholestasis', 'claforan', 'clay', 'colicky', 'compress', 'crush', 'dilate', 'fibrin', 'fna', 'gastrojejunostomy', 'green', 'instrumentation', 'interbody', 'interphalangeal', 'laparoscopy', 'loop', 'macrocytic', 'marcescens', 'metacarpal', 'metacarpophalangeal', 'method', 'orthopedic', 'parenteral', 'pass', 'peripancreatic', 'polypoid', 'posterolateral', 'posture', 'precipitating', 'pylorus', 'release', 'resolve', 'retrosternal', 'ring', 'sclerae', 'serratia', 'stasis', 'tenolysis', 'transforaminal', 'tree', 'corpus', 'coughing', 'cranium', 'epileptic', 'insult', 'ivc', 'moving', 'propofol', 'spikes', 'striatum', 'tofranil', 'variable', 'wave', 'antibodies', 'antigravity', 'atorvastatin', 'attendant', 'com', 'confined', 'date', 'definitive', 'dependence', 'drive', 'emg', 'exclude', 'feed', 'glargine', 'gravis', 'labial', 'myasthenia', 'neuromuscular', 'quadriparesis', 'radiological', 'saw', 'sept', 'subgaleal', 'thinking', 'torso', 'aberrant', 'akinesia', 'akinetic', 'alpha', 'anca', 'ant', 'beta', 'cannulas', 'cavh', 'clopidogrel', 'cope', 'des', 'echocardiogram', 'electro', 'endocardium', 'exudate', 'globulins', 'hdl', 'hypoattenuation', 'inf', 'ldl', 'lipitor', 'meningosepticum', 'mural', 'nephrotic', 'ostial', 'peribronchial', 'proteinuria', 'qrs', 'revascularize', 'ribbon', 'stunning', 'thromboembolism', 'turgor', 'ultrafiltration', 'weak', 'cardiomyopathy', 'comfort', 'constrictive', 'cyberknife', 'distant', 'dobutamine', 'gemzar', 'index', 'navelbine', 'paclitaxel', 'paraplatin', 'pericardiocentesis', 'pleuracentesis', 'radiation', 'span', 'srs', 'tarceva', 'taxotere', 'thickness', 'veins', 'voltage', 'approved', 'auria', 'bal', 'bronchoscopic', 'cryo', 'extranodal', 'figure', 'hemophagocytic', 'herpetiformis', 'hypermetabolism', 'iie', 'ivig', 'lymphoepithelial', 'mandibular', 'pemphigoid', 'period', 'phospholipid', 'prong', 'regression', 'relaxant', 'rituximab', 'serology', 'solid', 'summer', 'valtrex', 'vesicle', 'amikacin', 'antirheumatic', 'brush', 'capacity', 'clindamycin', 'enbrel', 'humeral', 'indirect', 'jiroveci', 'metatarsophalangeal', 'mobic', 'myositis', 'nine', 'pariet', 'piriformis', 'pneumocystis', 'reticular', 'rheumatoid', 'salagen', 'sjogren', 'trimethoprim', 'apraxia', 'cerebellar', 'come', 'concentric', 'degeneration', 'gingiva', 'lacune', 'neurosurgeon', 'premature', 'restrictive', 'subendocardial', 'supra', 'wallerian', 'warfarin', 'adhf', 'allograft', 'anesthetized', 'aps', 'black', 'bnp', 'cadaveric', 'cardiorenal', 'cellcept', 'contracted', 'deficiency', 'deg', 'dexilant', 'dysmorphic', 'eczema', 'epigastric', 'glomerulonephritis', 'hemoconcentration', 'immunosuppressant', 'ismo', 'live', 'malar', 'modulator', 'native', 'necessity', 'nephritis', 'panendoscope', 'pseudo', 'rapamune', 'rejection', 'showing', 'sick', 'sirolimus', 'vomit', 'adenomyomatosis', 'celebrex', 'celiac', 'dual', 'ero', 'extracorporeal', 'periportal', 'preservative', 'running', 'anion', 'auditory', 'canal', 'compensate', 'dilantin', 'enriched', 'ketoacidosis', 'lamivudine', 'margin', 'parapharyngeal', 'rolling', 'aberration', 'absolute', 'allo', 'amalonaticus', 'ambisome', 'amphotericin', 'ann', 'arbor', 'atg', 'auto', 'campylobacter', 'cavitary', 'cefuroxime', 'chicken', 'clonal', 'colonization', 'colonoscopic', 'colonoscopy', 'conditioning', 'corynebacterium', 'cyclosporin', 'cytogenetic', 'cytomegalovirus', 'cytotec', 'differentiating', 'divided', 'dorsal', 'duodenitis', 'duty', 'dyskeratosis', 'emboli', 'extraarticular', 'fab', 'filtration', 'follicular', 'foscarnet', 'foscavir', 'functional', 'ges', 'granulomas', 'great', 'halo', 'haploidentical', 'host', 'hyperacute', 'hypercellular', 'identification', 'immunostain', 'inclusion', 'inflammatory', 'intensity', 'intermediate', 'isotope', 'jejuni', 'lamina', 'liposomal', 'mesylate', 'metaplasia', 'mold', 'morphological', 'morphology', 'mycophenolate', 'ncv', 'opioid', 'pancytopenia', 'pap', 'patches', 'patho', 'phalangeal', 'pharmacy', 'plasmapheresis', 'prefilled', 'primacor', 'prochlorperazine', 'prograf', 'propria', 'selective', 'shaped', 'sucralfate', 'suppressed', 'symptom', 'tacrolimus', 'throbbing', 'transformation', 'valganciclovir', 'versus', 'vidaza', 'vulgaris', 'als', 'amyotrophic', 'baep', 'blink', 'bulla', 'effacement', 'intracellular', 'tracing', 'units', 'cord', 'hypopharyngeal', 'neurogenic', 'accessory', 'amputated', 'anticoagulation', 'antihypertensive', 'antiplatelet', 'barthel', 'bathing', 'bound', 'bph', 'bright', 'brunnstrom', 'bulbs', 'cervicocranial', 'chelate', 'compensation', 'continent', 'costovertebral', 'dorsiflexor', 'dystonia', 'effort', 'endurance', 'enlarge', 'exercise', 'explore', 'facilitation', 'fourth', 'geriatric', 'hemianopia', 'holter', 'hscrp', 'hyperintense', 'hypoplasia', 'infarctions', 'infarcts', 'lacunar', 'learned', 'length', 'masticatory', 'mat', 'milky', 'mra', 'nephrotoxicity', 'ntg', 'palate', 'paramedian', 'pca', 'pedal', 'peristent', 'practice', 'pure', 'reflexes', 'rehabilitation', 'relaxation', 'rhonchus', 'safe', 'scale', 'silent', 'sitting', 'slurred', 'sphincter', 'sternocleidomastoid', 'stump', 'suprasternal', 'susceptibility', 'tactile', 'tibia', 'tibialis', 'urination', 'verapamil', 'visualization', 'voice', 'walker', 'zoloft', 'airways', 'cane', 'epileptiform', 'interstitium', 'parotid', 'retroparotid', 'retropharyngeal', 'reversed', 'semicoma', 'tension', 'basilar', 'cardioembolic', 'cbf', 'conc', 'gout', 'hypoplastic', 'mean', 'nails', 'neighbor', 'retching', 'rheumatological', 'thalami', 'thrombectomy', 'transit', 'varicose', 'faecalis', 'thoracostomy', 'biphasic', 'cannulated', 'closed', 'displaced', 'encounter', 'house', 'intrapleural', 'intubate', 'path', 'reduction', 'ciprofloxacin', 'circuit', 'cyclic', 'fundal', 'haptoglobin', 'hypophosphatemia', 'icon', 'nih', 'osmolality', 'osmotic', 'phosphate', 'qualitative', 'available', 'interfering', 'isolated', 'map', 'nephro', 'streptococcus', 'tunnel', 'creatine', 'echogenicity', 'echography', 'indol', 'jelly', 'pulled', 'thin', 'abdominoperineal', 'clotted', 'covering', 'ill', 'met', 'urology', 'vaginectomy', 'aav', 'cauliflower', 'circular', 'closure', 'colonic', 'coronal', 'emission', 'inhale', 'mbq', 'normotensive', 'pneumohydrothorax', 'sagittal', 'scintigraphic', 'serosal', 'splenic', 'standard', 'tubular', 'uptake', 'vertex', 'angioedema', 'conserving', 'delivery', 'don', 'earache', 'gyn', 'lapatinib', 'perineal', 'section', 'tonsillitis', 'transpedicular', 'ultravist', 'antiarrhythmics', 'antihistamine', 'bioprosthesis', 'conjunctival', 'crown', 'drank', 'ectopy', 'endocarditis', 'gentamicin', 'hemolytic', 'horn', 'implant', 'infective', 'janeway', 'osler', 'pitavastatin', 'pmdi', 'porcine', 'prosthetic', 'prothetic', 'pulpitis', 'scaling', 'ultrasound', 'unresolved', 'alternative', 'dead', 'defibrillation', 'euphoria', 'massage', 'onco', 'papule', 'asian', 'balls', 'chill', 'dabigatran', 'eraxis', 'neuralgia', 'phlebolith', 'phx', 'spider', 'tea', 'tinea', 'transferrin', 'whipple', 'atrioventricular', 'average', 'cardial', 'cephalic', 'ectopies', 'ganglions', 'inferolateral', 'junctional', 'lin', 'pause', 'preliminary', 'pvcs', 'sss', 'vertebra', 'alarm', 'cnv', 'confrontation', 'eyeground', 'mvp', 'ambulatory', 'attending', 'broncho', 'cefazolin', 'cephalexin', 'clarify', 'denosumab', 'dialysate', 'dianeal', 'dietician', 'elemental', 'extraneal', 'formula', 'gallium', 'heel', 'inotropes', 'intraoperative', 'lowering', 'media', 'narrow', 'pleocytosis', 'scrotum', 'sialadenitis', 'std', 'trough', 'tubes', 'ultra', 'zones', 'cancerous', 'element', 'htlv', 'lymphomatous', 'push', 'sono', 'waves', 'ambulate', 'ampule', 'bit', 'bruise', 'bystander', 'carbapenems', 'dddr', 'driving', 'evaluable', 'fingers', 'hyperinflated', 'hyperventilation', 'insufficient', 'intracardiac', 'maneuvers', 'oximetry', 'paronychia', 'photic', 'pneumococcus', 'pylori', 'turp', 'uri', 'xerosis', 'ankylosing', 'arch', 'beer', 'cavernous', 'cheek', 'clivus', 'dural', 'dysfunctional', 'encased', 'foamy', 'hypoglycemia', 'hypovolemia', 'introduction', 'iopromide', 'masticator', 'means', 'odontectomy', 'optic', 'orbital', 'oro', 'ovale', 'packing', 'paraduodenal', 'pararenal', 'petrous', 'plate', 'portions', 'pterygoid', 'pterygopalatine', 'reconstruction', 'skeletal', 'sphenoid', 'suprahyoid', 'transfemoral', 'capitis', 'chlamydophila', 'doxycycline', 'hbc', 'hgb', 'nitrite', 'tnt', 'vasogenic', 'ambu', 'bereavement', 'bovis', 'bromide', 'cefoperazone', 'coherent', 'ddd', 'escape', 'gallstone', 'salbutamol', 'curative', 'eccentric', 'eia', 'optiray', 'transmission', 'fixing', 'precordial', 'stratification', 'tent', 'upward', 'bend', 'cerebrum', 'computed', 'contained', 'contusion', 'deletion', 'expiration', 'fish', 'frame', 'get', 'identify', 'inspiration', 'ivs', 'loculated', 'naloxone', 'oxycontin', 'scapula', 'sneezing', 'tomography', 'azygos', 'bac', 'bifrontal', 'bullous', 'cll', 'dacryocystitis', 'lymphocytic', 'mcas', 'nasolacrimal', 'pneumococcal', 'purulence', 'ruptured', 'sacs', 'spasm', 'violaceous', 'working', 'arbs', 'capillary', 'economy', 'hydrochloride', 'hypokinesis', 'maleate', 'methyl', 'mmol', 'myocardium', 'salicylate', 'segmented', 'vertical', 'microcytic', 'thalassemia', 'tine', 'alignment', 'dura', 'incisional', 'micronodules', 'mucous', 'ovarian', 'parametrium', 'plug', 'shirt', 'shooting', 'surgicel', 'vertebrae', 'zygomatic', 'ambien', 'anesthesia', 'anesthesiologist', 'arousal', 'compressed', 'cosmetic', 'decerebrate', 'decerebrated', 'decompressive', 'diplegia', 'drip', 'globus', 'grouped', 'hong', 'kong', 'neutral', 'operator', 'pallidus', 'pneumatization', 'pubic', 'sample', 'sensing', 'terms', 'unconscious', 'vesicles', 'zolpidem', 'dominant', 'endobronchial', 'fold', 'foodstuff', 'hepatomegaly', 'kerley', 'myoclonic', 'noxious', 'paper', 'pontine', 'probability', 'tobacco', 'vegetarian', 'activated', 'bubble', 'depressed', 'kinds', 'men', 'shingles', 'vasopressin', 'levetiracetam', 'metabolism', 'neuroradiologist', 'ophthalmology', 'peptic', 'street', 'sweet', 'blindness', 'chiasm', 'drift', 'dysdiadochokinesia', 'dysphonia', 'expressive', 'jaw', 'mackay', 'peduncle', 'pituitary', 'platysma', 'positional', 'primitive', 'pronator', 'saccade', 'sella', 'smell', 'steppage', 'temporalis', 'titubation', 'truncal', 'turcica', 'variability', 'waddling', 'width', 'anticardiolipin', 'asis', 'clump', 'cop', 'defensive', 'denial', 'laceration', 'mer', 'oxygenator', 'psoriatic', 'rheuma', 'rheumatology', 'siadh', 'calcitonin', 'climbing', 'detachment', 'eus', 'fibronodular', 'fpsa', 'itp', 'lid', 'livedo', 'lytic', 'myeloma', 'nest', 'nests', 'ophthalmopathy', 'organs', 'orthopedics', 'osteoblastic', 'parathyroid', 'paravertebral', 'plasma', 'proptosis', 'radiating', 'rasburicase', 'rectus', 'reticularis', 'special', 'thick', 'thrombocytopenic', 'thrombolysis', 'ultrasonography', 'zometa', 'accompanying', 'acromion', 'axial', 'eighth', 'fractions', 'ipap', 'iressa', 'paraffin', 'pedicle', 'pneumonias', 'regressive', 'rural', 'scapular', 'spiculated', 'thirst', 'venturi', 'cca', 'diastolic', 'hyperosmolarity', 'immunocompromised', 'india', 'ink', 'listeria', 'buscopan', 'gender', 'inferobasal', 'inversion', 'pah', 'spectral', 'tophi', 'transmitral', 'axillae', 'predominantly', 'uria', 'abducens', 'aqueduct', 'bitemporal', 'cerebellopontine', 'cranioplasty', 'episodic', 'extradural', 'homonymous', 'hyperosmia', 'hypesthesia', 'hyposmia', 'lobulated', 'naproxen', 'noncommunicating', 'olfactory', 'parasellar', 'preventing', 'rad', 'schwannoma', 'stabilization', 'trigeminal', 'acei', 'antiphospholipid', 'board', 'bronchopneumonia', 'intercellular', 'leflunomide', 'lumb', 'pleuritis', 'radiopacity', 'reactivation', 'septa', 'stages', 'tocilizumab', 'valves', 'apc', 'chemical', 'disfunction', 'english', 'erlotinib', 'genetic', 'invading', 'lipoma', 'allergic', 'biloma', 'chd', 'decompensating', 'dome', 'hiatal', 'hydrolysate', 'malfunction', 'oval', 'cholelithiasis', 'jejunostomy', 'lowr', 'parathyroidectomy', 'pseudonormalization', 'soluble', 'charta', 'complement', 'exchange', 'groups', 'levator', 'megakaryocytic', 'meningoccal', 'thrombotic', 'cardiothoracic', 'colorectal', 'contractility', 'otsuka', 'posteromedial', 'radiosurgery', 'stereotactic', 'thalamic', 'ate', 'battery', 'bundle', 'depletion', 'dilation', 'fluoroscopic', 'generator', 'pft', 'recanalization', 'agonist', 'penile', 'rebreathing', 'consolidative', 'anteroseptal', 'cisterns', 'demarcation', 'discharges', 'diseased', 'effaced', 'eosinophil', 'gfr', 'glc', 'hiccups', 'hyperintensity', 'hyperreflexia', 'ing', 'irregularities', 'isointense', 'japanese', 'leukocyte', 'limbic', 'monocyte', 'myelocyte', 'neutrophil', 'normoblast', 'relenza', 'simplex', 'triphasic', 'bullae', 'disturbed', 'hoffmann', 'hyporeflexia', 'immobility', 'immobilization', 'lyrica', 'pectoris', 'rilutek', 'riluzole', 'saliva', 'tetraplegia', 'trileptal', 'brachytherapy', 'conization', 'doripenem', 'electrosurgical', 'hemofiltration', 'intracavitary', 'leep', 'machine', 'nephrostomy', 'outlet', 'ppis', 'quinolones', 'ureteritis', 'adenosine', 'bout', 'china', 'giant', 'scd', 'svt', 'termination', 'osteomyelitis', 'pseudophakia', 'steal\\n']\n"
     ]
    }
   ],
   "source": [
    "print (patient[1])"
   ]
  },
  {
   "cell_type": "code",
   "execution_count": 4,
   "metadata": {},
   "outputs": [],
   "source": [
    "k=[]\n",
    "for i in range(1,125):\n",
    "    k.append(patient[i])"
   ]
  },
  {
   "cell_type": "code",
   "execution_count": 5,
   "metadata": {},
   "outputs": [
    {
     "name": "stdout",
     "output_type": "stream",
     "text": [
      "Requirement already satisfied: nbimporter in c:\\users\\james\\anaconda2\\envs\\python3\\lib\\site-packages (0.3.1)\n"
     ]
    }
   ],
   "source": [
    "!pip install nbimporter"
   ]
  },
  {
   "cell_type": "code",
   "execution_count": 6,
   "metadata": {},
   "outputs": [],
   "source": [
    "import nbimporter\n",
    "import fp_growth2"
   ]
  },
  {
   "cell_type": "code",
   "execution_count": 7,
   "metadata": {},
   "outputs": [],
   "source": [
    "import unittest\n",
    "from fp_growth2 import FPNode, FPTree"
   ]
  },
  {
   "cell_type": "code",
   "execution_count": null,
   "metadata": {},
   "outputs": [],
   "source": [
    "patterns = fp_growth2.find_frequent_patterns(k,220)   #筆數*support值(17651*0.01)=176.51 約 200"
   ]
  },
  {
   "cell_type": "code",
   "execution_count": 21,
   "metadata": {},
   "outputs": [],
   "source": [
    "rules = fp_growth2.generate_association_rules(patterns, 0.01)"
   ]
  },
  {
   "cell_type": "code",
   "execution_count": 22,
   "metadata": {},
   "outputs": [
    {
     "name": "stdout",
     "output_type": "stream",
     "text": [
      "{}\n"
     ]
    }
   ],
   "source": [
    "print (rules)"
   ]
  },
  {
   "cell_type": "code",
   "execution_count": null,
   "metadata": {},
   "outputs": [],
   "source": []
  },
  {
   "cell_type": "code",
   "execution_count": null,
   "metadata": {},
   "outputs": [],
   "source": []
  }
 ],
 "metadata": {
  "kernelspec": {
   "display_name": "Python 3",
   "language": "python",
   "name": "python3"
  },
  "language_info": {
   "codemirror_mode": {
    "name": "ipython",
    "version": 3
   },
   "file_extension": ".py",
   "mimetype": "text/x-python",
   "name": "python",
   "nbconvert_exporter": "python",
   "pygments_lexer": "ipython3",
   "version": "3.7.2"
  }
 },
 "nbformat": 4,
 "nbformat_minor": 2
}
