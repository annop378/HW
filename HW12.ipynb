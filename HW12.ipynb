{
 "cells": [
  {
   "cell_type": "markdown",
   "metadata": {},
   "source": [
    "## Explain\n",
    "M1：quality for group A. \n",
    "M2：quality for group B. \n",
    "M3: waiting time for group A. \n",
    "M4: waiting time for group B.\n",
    "M5: optimal toll for both group A and group B"
   ]
  },
  {
   "cell_type": "code",
   "execution_count": 1,
   "metadata": {},
   "outputs": [],
   "source": [
    "from gurobipy import *\n",
    "#set\n",
    "t=[]# minute\n",
    "for i in range(0,24*60):\n",
    "    t.append(i)"
   ]
  },
  {
   "cell_type": "code",
   "execution_count": 2,
   "metadata": {},
   "outputs": [],
   "source": [
    "#parameter for both group\n",
    "thope=9*60#desired arrival time\n",
    "vot=12#value of time\n",
    "B=6#marginal cost of schedule early\n",
    "r=9#marginal cost of schedule late\n",
    "u=20#bottleneck capacity\n",
    "cost=dict()#schedule cost\n",
    "for i in t:\n",
    "    if i < thope:\n",
    "        cost[i]=B*(thope-i)\n",
    "    elif i == thope:\n",
    "        cost[i]=0\n",
    "    elif i > thope:\n",
    "        cost[i]=r*(i-thope)"
   ]
  },
  {
   "cell_type": "code",
   "execution_count": 3,
   "metadata": {},
   "outputs": [],
   "source": [
    "QAB=[300,1200]#total demand\n",
    "merge=[0.25,0.75]"
   ]
  },
  {
   "cell_type": "code",
   "execution_count": 4,
   "metadata": {},
   "outputs": [],
   "source": [
    "k=[]\n",
    "for i in range(len(QAB)):\n",
    "    k.append(merge[i]/QAB[i])\n",
    "priority=k.index(max(k))"
   ]
  },
  {
   "cell_type": "code",
   "execution_count": 5,
   "metadata": {},
   "outputs": [
    {
     "name": "stdout",
     "output_type": "stream",
     "text": [
      "Academic license - for non-commercial use only\n",
      "for all q of t minutes whiches value is bigger than zero:\n",
      "q[505]: 5.000000\n",
      "q[506]: 5.000000\n",
      "q[507]: 5.000000\n",
      "q[508]: 5.000000\n",
      "q[509]: 5.000000\n",
      "q[510]: 5.000000\n",
      "q[511]: 5.000000\n",
      "q[512]: 5.000000\n",
      "q[513]: 5.000000\n",
      "q[514]: 5.000000\n",
      "q[515]: 5.000000\n",
      "q[516]: 5.000000\n",
      "q[517]: 5.000000\n",
      "q[518]: 5.000000\n",
      "q[519]: 5.000000\n",
      "q[520]: 5.000000\n",
      "q[521]: 5.000000\n",
      "q[522]: 5.000000\n",
      "q[523]: 5.000000\n",
      "q[524]: 5.000000\n",
      "q[525]: 5.000000\n",
      "q[526]: 5.000000\n",
      "q[527]: 5.000000\n",
      "q[528]: 5.000000\n",
      "q[529]: 5.000000\n",
      "q[530]: 5.000000\n",
      "q[531]: 5.000000\n",
      "q[532]: 5.000000\n",
      "q[533]: 5.000000\n",
      "q[534]: 5.000000\n",
      "q[535]: 5.000000\n",
      "q[536]: 5.000000\n",
      "q[537]: 5.000000\n",
      "q[538]: 5.000000\n",
      "q[539]: 5.000000\n",
      "q[540]: 5.000000\n",
      "q[541]: 5.000000\n",
      "q[542]: 5.000000\n",
      "q[543]: 5.000000\n",
      "q[544]: 5.000000\n",
      "q[545]: 5.000000\n",
      "q[546]: 5.000000\n",
      "q[547]: 5.000000\n",
      "q[548]: 5.000000\n",
      "q[549]: 5.000000\n",
      "q[550]: 5.000000\n",
      "q[551]: 5.000000\n",
      "q[552]: 5.000000\n",
      "q[553]: 5.000000\n",
      "q[554]: 5.000000\n",
      "q[555]: 5.000000\n",
      "q[556]: 5.000000\n",
      "q[557]: 5.000000\n",
      "q[558]: 5.000000\n",
      "q[559]: 5.000000\n",
      "q[560]: 5.000000\n",
      "q[561]: 5.000000\n",
      "q[562]: 5.000000\n",
      "q[563]: 5.000000\n",
      "q[564]: 5.000000\n"
     ]
    }
   ],
   "source": [
    "#variable\n",
    "m1=Model('groupA_Q')  \n",
    "m1.setParam( 'OutputFlag', False )\n",
    "q = m1.addVars(t,lb=0, name = \"q\" )\n",
    "priority = 0\n",
    "m1.update()\n",
    "\n",
    "#subject to\n",
    "m1.addConstrs(((q[i]) <= (u*merge[priority]) for i in t),'Capacity')\n",
    "m1.addConstr(((quicksum(q[i] for i in t)) == QAB[priority] ),'Quality')\n",
    "\n",
    "#objective\n",
    "m1.setObjective(quicksum(cost[i]/vot*q[i] for i in t) , GRB.MINIMIZE)\n",
    "m1.optimize()\n",
    "#solve\n",
    "print 'for all q of t minutes whiches value is bigger than zero:'\n",
    "timeA=[]\n",
    "for v in m1.getVars():\n",
    "    if v.x > 0  :\n",
    "        print(\"%s: %f\" %(v.varName, v.x))\n",
    "        timeA.append(v.varName)"
   ]
  },
  {
   "cell_type": "code",
   "execution_count": 6,
   "metadata": {},
   "outputs": [],
   "source": [
    "timeforA=[]\n",
    "for i in timeA:\n",
    "    timeforA.append(int(i.replace('q[','').replace(']','')))\n"
   ]
  },
  {
   "cell_type": "code",
   "execution_count": 7,
   "metadata": {},
   "outputs": [
    {
     "name": "stdout",
     "output_type": "stream",
     "text": [
      "[505, 506, 507, 508, 509, 510, 511, 512, 513, 514, 515, 516, 517, 518, 519, 520, 521, 522, 523, 524, 525, 526, 527, 528, 529, 530, 531, 532, 533, 534, 535, 536, 537, 538, 539, 540, 541, 542, 543, 544, 545, 546, 547, 548, 549, 550, 551, 552, 553, 554, 555, 556, 557, 558, 559, 560, 561, 562, 563, 564]\n"
     ]
    }
   ],
   "source": [
    "print timeforA"
   ]
  },
  {
   "cell_type": "code",
   "execution_count": 8,
   "metadata": {},
   "outputs": [
    {
     "name": "stdout",
     "output_type": "stream",
     "text": [
      "for all q of t minutes whiches value is bigger than zero:\n",
      "q[495]: 20.000000\n",
      "q[496]: 20.000000\n",
      "q[497]: 20.000000\n",
      "q[498]: 20.000000\n",
      "q[499]: 20.000000\n",
      "q[500]: 20.000000\n",
      "q[501]: 20.000000\n",
      "q[502]: 20.000000\n",
      "q[503]: 20.000000\n",
      "q[504]: 20.000000\n",
      "q[505]: 15.000000\n",
      "q[506]: 15.000000\n",
      "q[507]: 15.000000\n",
      "q[508]: 15.000000\n",
      "q[509]: 15.000000\n",
      "q[510]: 15.000000\n",
      "q[511]: 15.000000\n",
      "q[512]: 15.000000\n",
      "q[513]: 15.000000\n",
      "q[514]: 15.000000\n",
      "q[515]: 15.000000\n",
      "q[516]: 15.000000\n",
      "q[517]: 15.000000\n",
      "q[518]: 15.000000\n",
      "q[519]: 15.000000\n",
      "q[520]: 15.000000\n",
      "q[521]: 15.000000\n",
      "q[522]: 15.000000\n",
      "q[523]: 15.000000\n",
      "q[524]: 15.000000\n",
      "q[525]: 15.000000\n",
      "q[526]: 15.000000\n",
      "q[527]: 15.000000\n",
      "q[528]: 15.000000\n",
      "q[529]: 15.000000\n",
      "q[530]: 15.000000\n",
      "q[531]: 15.000000\n",
      "q[532]: 15.000000\n",
      "q[533]: 15.000000\n",
      "q[534]: 15.000000\n",
      "q[535]: 15.000000\n",
      "q[536]: 15.000000\n",
      "q[537]: 15.000000\n",
      "q[538]: 15.000000\n",
      "q[539]: 15.000000\n",
      "q[540]: 15.000000\n",
      "q[541]: 15.000000\n",
      "q[542]: 15.000000\n",
      "q[543]: 15.000000\n",
      "q[544]: 15.000000\n",
      "q[545]: 15.000000\n",
      "q[546]: 15.000000\n",
      "q[547]: 15.000000\n",
      "q[548]: 15.000000\n",
      "q[549]: 15.000000\n",
      "q[550]: 15.000000\n",
      "q[551]: 15.000000\n",
      "q[552]: 15.000000\n",
      "q[553]: 15.000000\n",
      "q[554]: 15.000000\n",
      "q[555]: 15.000000\n",
      "q[556]: 15.000000\n",
      "q[557]: 15.000000\n",
      "q[558]: 15.000000\n",
      "q[559]: 15.000000\n",
      "q[560]: 15.000000\n",
      "q[561]: 15.000000\n",
      "q[562]: 15.000000\n",
      "q[563]: 15.000000\n",
      "q[564]: 15.000000\n",
      "q[565]: 20.000000\n",
      "q[566]: 20.000000\n",
      "q[567]: 20.000000\n",
      "q[568]: 20.000000\n",
      "q[569]: 20.000000\n"
     ]
    }
   ],
   "source": [
    "#set for time\n",
    "t1=timeforA\n",
    "t2=list(set(t).difference(set(timeforA)))\n",
    "Q=QAB[1]\n",
    "#variable\n",
    "m2=Model('numetric')  \n",
    "m2.setParam( 'OutputFlag', False )\n",
    "q = m2.addVars(t,lb=0, name = \"q\" )\n",
    "m2.update()\n",
    "\n",
    "#subject to\n",
    "m2.addConstrs(((q[i]) <= (u*0.75) for i in t1),'Capacity1')\n",
    "m2.addConstrs(((q[i]) <= (u) for i in t2),'Capacity2')\n",
    "m2.addConstr(((quicksum(q[i] for i in t)) == Q ),'Quality')\n",
    "\n",
    "#objective\n",
    "m2.setObjective(quicksum(cost[i]/vot*q[i] for i in t) , GRB.MINIMIZE)\n",
    "m2.optimize()\n",
    "#solve\n",
    "print 'for all q of t minutes whiches value is bigger than zero:'\n",
    "for v in m2.getVars():\n",
    "    if v.x > 0  :\n",
    "        print(\"%s: %f\" %(v.varName, v.x))"
   ]
  },
  {
   "cell_type": "markdown",
   "metadata": {},
   "source": [
    "### (1) At equilibrium, how much is waiting delay of each group? It changes among time of day.\n",
    "### (2) At equilibrium, how much is equilibrium cost of each group?"
   ]
  },
  {
   "cell_type": "code",
   "execution_count": 9,
   "metadata": {},
   "outputs": [
    {
     "name": "stdout",
     "output_type": "stream",
     "text": [
      "equilibrium cost for group A： 18.0\n",
      "for group A waiting time:\n",
      "w[505]: 1.000000\n",
      "w[506]: 1.000000\n",
      "w[507]: 2.000000\n",
      "w[508]: 2.000000\n",
      "w[509]: 3.000000\n",
      "w[510]: 3.000000\n",
      "w[511]: 4.000000\n",
      "w[512]: 4.000000\n",
      "w[513]: 5.000000\n",
      "w[514]: 5.000000\n",
      "w[515]: 6.000000\n",
      "w[516]: 6.000000\n",
      "w[517]: 7.000000\n",
      "w[518]: 7.000000\n",
      "w[519]: 8.000000\n",
      "w[520]: 8.000000\n",
      "w[521]: 9.000000\n",
      "w[522]: 9.000000\n",
      "w[523]: 10.000000\n",
      "w[524]: 10.000000\n",
      "w[525]: 11.000000\n",
      "w[526]: 11.000000\n",
      "w[527]: 12.000000\n",
      "w[528]: 12.000000\n",
      "w[529]: 13.000000\n",
      "w[530]: 13.000000\n",
      "w[531]: 14.000000\n",
      "w[532]: 14.000000\n",
      "w[533]: 15.000000\n",
      "w[534]: 15.000000\n",
      "w[535]: 16.000000\n",
      "w[536]: 16.000000\n",
      "w[537]: 17.000000\n",
      "w[538]: 17.000000\n",
      "w[539]: 18.000000\n",
      "w[540]: 18.000000\n",
      "w[541]: 18.000000\n",
      "w[542]: 17.000000\n",
      "w[543]: 16.000000\n",
      "w[544]: 15.000000\n",
      "w[545]: 15.000000\n",
      "w[546]: 14.000000\n",
      "w[547]: 13.000000\n",
      "w[548]: 12.000000\n",
      "w[549]: 12.000000\n",
      "w[550]: 11.000000\n",
      "w[551]: 10.000000\n",
      "w[552]: 9.000000\n",
      "w[553]: 9.000000\n",
      "w[554]: 8.000000\n",
      "w[555]: 7.000000\n",
      "w[556]: 6.000000\n",
      "w[557]: 6.000000\n",
      "w[558]: 5.000000\n",
      "w[559]: 4.000000\n",
      "w[560]: 3.000000\n",
      "w[561]: 3.000000\n",
      "w[562]: 2.000000\n",
      "w[563]: 1.000000\n",
      "tho: 18.000000\n"
     ]
    }
   ],
   "source": [
    "#variable\n",
    "m3=Model('numetric')  \n",
    "m3.setParam( 'OutputFlag', False )\n",
    "w = m3.addVars(t,lb=0, name = \"w\" )\n",
    "tho=m3.addVar(lb=0,name='tho')\n",
    "m3.update()\n",
    "priority=0\n",
    "#subject to\n",
    "m3.addConstrs(((-w[i]+tho) <= (cost[i]/vot) for i in t),'q(t)')\n",
    "\n",
    "#objective\n",
    "m3.setObjective(-quicksum(u*merge[priority]*w[i] for i in t)+ QAB[priority]*tho , GRB.MAXIMIZE)\n",
    "m3.optimize()\n",
    "#solve\n",
    "print 'equilibrium cost for group A：',m3.getVarByName('tho').x  \n",
    "print 'for group A waiting time:'\n",
    "timeA=[] \n",
    "for v in m3.getVars():\n",
    "    if v.x > 0  :\n",
    "        print(\"%s: %f\" %(v.varName, v.x))\n",
    "        timeA.append(v.varName)"
   ]
  },
  {
   "cell_type": "code",
   "execution_count": 10,
   "metadata": {},
   "outputs": [
    {
     "name": "stdout",
     "output_type": "stream",
     "text": [
      "equilibrium cost for group B： 22.0\n",
      "for group B waiting time:\n",
      "w[497]: 1.000000\n",
      "w[498]: 1.000000\n",
      "w[499]: 2.000000\n",
      "w[500]: 2.000000\n",
      "w[501]: 3.000000\n",
      "w[502]: 3.000000\n",
      "w[503]: 4.000000\n",
      "w[504]: 4.000000\n",
      "w[505]: 5.000000\n",
      "w[506]: 5.000000\n",
      "w[507]: 6.000000\n",
      "w[508]: 6.000000\n",
      "w[509]: 7.000000\n",
      "w[510]: 7.000000\n",
      "w[511]: 8.000000\n",
      "w[512]: 8.000000\n",
      "w[513]: 9.000000\n",
      "w[514]: 9.000000\n",
      "w[515]: 10.000000\n",
      "w[516]: 10.000000\n",
      "w[517]: 11.000000\n",
      "w[518]: 11.000000\n",
      "w[519]: 12.000000\n",
      "w[520]: 12.000000\n",
      "w[521]: 13.000000\n",
      "w[522]: 13.000000\n",
      "w[523]: 14.000000\n",
      "w[524]: 14.000000\n",
      "w[525]: 15.000000\n",
      "w[526]: 15.000000\n",
      "w[527]: 16.000000\n",
      "w[528]: 16.000000\n",
      "w[529]: 17.000000\n",
      "w[530]: 17.000000\n",
      "w[531]: 18.000000\n",
      "w[532]: 18.000000\n",
      "w[533]: 19.000000\n",
      "w[534]: 19.000000\n",
      "w[535]: 20.000000\n",
      "w[536]: 20.000000\n",
      "w[537]: 21.000000\n",
      "w[538]: 21.000000\n",
      "w[539]: 22.000000\n",
      "w[540]: 22.000000\n",
      "w[541]: 22.000000\n",
      "w[542]: 21.000000\n",
      "w[543]: 20.000000\n",
      "w[544]: 19.000000\n",
      "w[545]: 19.000000\n",
      "w[546]: 18.000000\n",
      "w[547]: 17.000000\n",
      "w[548]: 16.000000\n",
      "w[549]: 16.000000\n",
      "w[550]: 15.000000\n",
      "w[551]: 14.000000\n",
      "w[552]: 13.000000\n",
      "w[553]: 13.000000\n",
      "w[554]: 12.000000\n",
      "w[555]: 11.000000\n",
      "w[556]: 10.000000\n",
      "w[557]: 10.000000\n",
      "w[558]: 9.000000\n",
      "w[559]: 8.000000\n",
      "w[560]: 7.000000\n",
      "w[561]: 7.000000\n",
      "w[562]: 6.000000\n",
      "w[563]: 5.000000\n",
      "w[564]: 4.000000\n",
      "w[565]: 4.000000\n",
      "w[566]: 3.000000\n",
      "w[567]: 2.000000\n",
      "w[568]: 1.000000\n",
      "w[569]: 1.000000\n",
      "tho: 22.000000\n"
     ]
    }
   ],
   "source": [
    "#variable\n",
    "t1=timeforA\n",
    "t2=list(set(t).difference(set(timeforA)))\n",
    "priority=1\n",
    "m4=Model('numetric')  \n",
    "m4.setParam( 'OutputFlag', False )\n",
    "w = m4.addVars(t,lb=0, name = \"w\" )\n",
    "tho=m4.addVar(lb=0,name='tho')\n",
    "m4.update()\n",
    "\n",
    "#subject to\n",
    "m4.addConstrs(((-w[i]+tho) <= (cost[i]/vot) for i in t),'q(t)')\n",
    "\n",
    "#objective\n",
    "m4.setObjective(-quicksum(u*merge[priority]*w[i] for i in t1)-quicksum(u*w[i] for i in t2)+ QAB[priority]*tho , GRB.MAXIMIZE)\n",
    "m4.optimize()\n",
    "#solve\n",
    "print 'equilibrium cost for group B：',m4.getVarByName('tho').x    \n",
    "print 'for group B waiting time:'\n",
    "timeA=[]\n",
    "for v in m4.getVars():\n",
    "    if v.x > 0  :\n",
    "        print(\"%s: %f\" %(v.varName, v.x))\n",
    "        timeA.append(v.varName)"
   ]
  },
  {
   "cell_type": "markdown",
   "metadata": {},
   "source": [
    "the equilibrium cost for A group is 18 and for B group is 22"
   ]
  },
  {
   "cell_type": "markdown",
   "metadata": {},
   "source": [
    "### (3)At equilibrium, how much is total trip cost of social?"
   ]
  },
  {
   "cell_type": "code",
   "execution_count": 11,
   "metadata": {},
   "outputs": [
    {
     "name": "stdout",
     "output_type": "stream",
     "text": [
      "total trip cost for group A:  65880.0\n",
      "total trip cost for group B:  321180.0\n"
     ]
    }
   ],
   "source": [
    "TCA=0\n",
    "for i,j in enumerate(m1.getVars()):\n",
    "    TCA+=m1.getVars()[i].x*(cost[i]+vot*m3.getVars()[i].x)\n",
    "print 'total trip cost for group A: ',TCA\n",
    "TCB=0\n",
    "for i,j in enumerate(m2.getVars()):\n",
    "    TCB+=m2.getVars()[i].x*(cost[i]+vot*m4.getVars()[i].x)\n",
    "print 'total trip cost for group B: ',TCB"
   ]
  },
  {
   "cell_type": "markdown",
   "metadata": {},
   "source": [
    "### (4)To achieve optimal situation, how much is the time-varying optimal toll?"
   ]
  },
  {
   "cell_type": "code",
   "execution_count": 12,
   "metadata": {},
   "outputs": [
    {
     "name": "stdout",
     "output_type": "stream",
     "text": [
      " toll for group A :\n",
      "p[496]: 6.000000\n",
      "p[497]: 12.000000\n",
      "p[498]: 18.000000\n",
      "p[499]: 24.000000\n",
      "p[500]: 30.000000\n",
      "p[501]: 36.000000\n",
      "p[502]: 42.000000\n",
      "p[503]: 48.000000\n",
      "p[504]: 54.000000\n",
      "p[505]: 60.000000\n",
      "p[506]: 66.000000\n",
      "p[507]: 72.000000\n",
      "p[508]: 78.000000\n",
      "p[509]: 84.000000\n",
      "p[510]: 90.000000\n",
      "p[511]: 96.000000\n",
      "p[512]: 102.000000\n",
      "p[513]: 108.000000\n",
      "p[514]: 114.000000\n",
      "p[515]: 120.000000\n",
      "p[516]: 126.000000\n",
      "p[517]: 132.000000\n",
      "p[518]: 138.000000\n",
      "p[519]: 144.000000\n",
      "p[520]: 150.000000\n",
      "p[521]: 156.000000\n",
      "p[522]: 162.000000\n",
      "p[523]: 168.000000\n",
      "p[524]: 174.000000\n",
      "p[525]: 180.000000\n",
      "p[526]: 186.000000\n",
      "p[527]: 192.000000\n",
      "p[528]: 198.000000\n",
      "p[529]: 204.000000\n",
      "p[530]: 210.000000\n",
      "p[531]: 216.000000\n",
      "p[532]: 222.000000\n",
      "p[533]: 228.000000\n",
      "p[534]: 234.000000\n",
      "p[535]: 240.000000\n",
      "p[536]: 246.000000\n",
      "p[537]: 252.000000\n",
      "p[538]: 258.000000\n",
      "p[539]: 264.000000\n",
      "p[540]: 270.000000\n",
      "p[541]: 261.000000\n",
      "p[542]: 252.000000\n",
      "p[543]: 243.000000\n",
      "p[544]: 234.000000\n",
      "p[545]: 225.000000\n",
      "p[546]: 216.000000\n",
      "p[547]: 207.000000\n",
      "p[548]: 198.000000\n",
      "p[549]: 189.000000\n",
      "p[550]: 180.000000\n",
      "p[551]: 171.000000\n",
      "p[552]: 162.000000\n",
      "p[553]: 153.000000\n",
      "p[554]: 144.000000\n",
      "p[555]: 135.000000\n",
      "p[556]: 126.000000\n",
      "p[557]: 117.000000\n",
      "p[558]: 108.000000\n",
      "p[559]: 99.000000\n",
      "p[560]: 90.000000\n",
      "p[561]: 81.000000\n",
      "p[562]: 72.000000\n",
      "p[563]: 63.000000\n",
      "p[564]: 54.000000\n",
      "p[565]: 45.000000\n",
      "p[566]: 36.000000\n",
      "p[567]: 27.000000\n",
      "p[568]: 18.000000\n",
      "p[569]: 9.000000\n",
      "tho: 22.500000\n"
     ]
    }
   ],
   "source": [
    "#variable\n",
    "m5=Model('numetric')  \n",
    "m5.setParam( 'OutputFlag', False )\n",
    "p = m5.addVars(t,lb=0, name = \"p\" )\n",
    "tho=m5.addVar(lb=0,name='tho')\n",
    "m5.update()\n",
    "priority=0\n",
    "\n",
    "#subject to\n",
    "m5.addConstrs(((-p[i]+tho*vot) <= (cost[i]) for i in t),'q(t)')\n",
    "\n",
    "#objective\n",
    "m5.setObjective(-quicksum(u*p[i] for i in t)+ (QAB[0]+QAB[1])*tho*vot , GRB.MAXIMIZE)\n",
    "m5.optimize()\n",
    "#solve\n",
    "print ' toll for group A :'\n",
    "for v in m5.getVars():\n",
    "    if v.x > 0  :\n",
    "        print(\"%s: %f\" %(v.varName, v.x))"
   ]
  },
  {
   "cell_type": "markdown",
   "metadata": {},
   "source": [
    "### (5) Under the optimal time-varying toll, how much is equilibrium cost of each group?"
   ]
  },
  {
   "cell_type": "code",
   "execution_count": 13,
   "metadata": {},
   "outputs": [
    {
     "name": "stdout",
     "output_type": "stream",
     "text": [
      "equilibrium cost for group A： 22.5\n",
      "equilibrium cost for group B： 22.5\n"
     ]
    }
   ],
   "source": [
    "print 'equilibrium cost for group A：',m5.getVarByName('tho').x    \n",
    "print 'equilibrium cost for group B：',m5.getVarByName('tho').x   "
   ]
  },
  {
   "cell_type": "markdown",
   "metadata": {},
   "source": [
    "### (6) Under the optimal time-varying toll, how much is the total revenues (toll payments)?"
   ]
  },
  {
   "cell_type": "code",
   "execution_count": 14,
   "metadata": {},
   "outputs": [
    {
     "name": "stdout",
     "output_type": "stream",
     "text": [
      "total revenue:  202500.0\n"
     ]
    }
   ],
   "source": [
    "TotalRevenue=0\n",
    "for i,j in enumerate(m1.getVars()):\n",
    "    TotalRevenue+=m1.getVars()[i].x*m5.getVars()[i].x\n",
    "for i,j in enumerate(m2.getVars()):\n",
    "    TotalRevenue+=m2.getVars()[i].x*m5.getVars()[i].x\n",
    "print 'total revenue: ',TotalRevenue"
   ]
  },
  {
   "cell_type": "markdown",
   "metadata": {},
   "source": [
    "### (7)Compare the equilibrium cost of each group between cases with and without the optimal toll charged. Everyone happy?"
   ]
  },
  {
   "cell_type": "code",
   "execution_count": 15,
   "metadata": {},
   "outputs": [
    {
     "name": "stdout",
     "output_type": "stream",
     "text": [
      "equilibrium cost for group A without toll： 18.0\n",
      "equilibrium cost for group B without toll： 22.0\n",
      "equilibrium cost under toll： 22.5\n"
     ]
    }
   ],
   "source": [
    "print 'equilibrium cost for group A without toll：',m3.getVarByName('tho').x \n",
    "print 'equilibrium cost for group B without toll：',m4.getVarByName('tho').x \n",
    "print 'equilibrium cost under toll：',m5.getVarByName('tho').x "
   ]
  },
  {
   "cell_type": "markdown",
   "metadata": {},
   "source": [
    "### conclusion for (7): \n",
    "Comparing the equilibrium cost of each group between cases with and without the optimal toll charged, the equilibrium cost in both group A and B are less than the equilibrium cost under toll. As the result, both group A and B are not happy."
   ]
  },
  {
   "cell_type": "markdown",
   "metadata": {},
   "source": [
    "### (8)Under the optimal time-varying toll, when the revenues are refunded for everyone equally, how much is the cost for each group? Everyone happy?"
   ]
  },
  {
   "cell_type": "code",
   "execution_count": 16,
   "metadata": {},
   "outputs": [
    {
     "name": "stdout",
     "output_type": "stream",
     "text": [
      "135.0\n"
     ]
    }
   ],
   "source": [
    "refund=float(TotalRevenue)/(QAB[0]+QAB[1])\n",
    "print refund"
   ]
  },
  {
   "cell_type": "code",
   "execution_count": 17,
   "metadata": {},
   "outputs": [],
   "source": [
    "changeA=refund*QAB[0]-TCA\n",
    "changeB=refund*QAB[1]-TCB"
   ]
  },
  {
   "cell_type": "code",
   "execution_count": 20,
   "metadata": {},
   "outputs": [
    {
     "name": "stdout",
     "output_type": "stream",
     "text": [
      "-25380.0 -159180.0\n"
     ]
    }
   ],
   "source": [
    "print changeA,changeB"
   ]
  },
  {
   "cell_type": "code",
   "execution_count": 19,
   "metadata": {},
   "outputs": [
    {
     "name": "stdout",
     "output_type": "stream",
     "text": [
      "184560.0\n"
     ]
    }
   ],
   "source": [
    "NewTotalRevenue = -(changeA+changeB)\n",
    "print NewTotalRevenue"
   ]
  },
  {
   "cell_type": "markdown",
   "metadata": {},
   "source": [
    "### conclusion for (8): \n",
    "The cost for group A is 25380. And the cost for group B is 159180.\n",
    "The new total cost is less than the old one.\n",
    "Both are less than the total cost without refund. So, I think everyone is happy."
   ]
  },
  {
   "cell_type": "code",
   "execution_count": null,
   "metadata": {},
   "outputs": [],
   "source": []
  }
 ],
 "metadata": {
  "kernelspec": {
   "display_name": "Python 2",
   "language": "python",
   "name": "python2"
  },
  "language_info": {
   "codemirror_mode": {
    "name": "ipython",
    "version": 2
   },
   "file_extension": ".py",
   "mimetype": "text/x-python",
   "name": "python",
   "nbconvert_exporter": "python",
   "pygments_lexer": "ipython2",
   "version": "2.7.15"
  }
 },
 "nbformat": 4,
 "nbformat_minor": 2
}
